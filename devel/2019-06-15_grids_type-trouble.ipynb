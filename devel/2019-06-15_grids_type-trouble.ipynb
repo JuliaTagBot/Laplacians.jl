{
 "cells": [
  {
   "cell_type": "code",
   "execution_count": null,
   "metadata": {
    "collapsed": true
   },
   "outputs": [],
   "source": [
    "# I set the package using (v1.1) pkg> add /Users/rjkyng/Dropbox/Repos/Laplacians.jl\n",
    "# hopefully that works\n",
    "# git checkout perf-tbest-dev"
   ]
  },
  {
   "cell_type": "code",
   "execution_count": 1,
   "metadata": {
    "collapsed": true
   },
   "outputs": [],
   "source": [
    "using Revise"
   ]
  },
  {
   "cell_type": "code",
   "execution_count": 18,
   "metadata": {
    "collapsed": false
   },
   "outputs": [],
   "source": [
    "using Laplacians\n",
    "using SparseArrays"
   ]
  },
  {
   "cell_type": "code",
   "execution_count": 3,
   "metadata": {
    "collapsed": false
   },
   "outputs": [],
   "source": [
    "using Pkg"
   ]
  },
  {
   "cell_type": "code",
   "execution_count": 4,
   "metadata": {
    "collapsed": false
   },
   "outputs": [
    {
     "data": {
      "text/plain": [
       "\"/Users/rjkyng/Dropbox/Repos/Laplacians.jl/src/Laplacians.jl\""
      ]
     },
     "execution_count": 4,
     "metadata": {},
     "output_type": "execute_result"
    }
   ],
   "source": [
    "Pkg.pathof(Laplacians)"
   ]
  },
  {
   "cell_type": "markdown",
   "metadata": {},
   "source": [
    "maybe switch to Juno?\n",
    "\n",
    "\n",
    "https://github.com/JunoLab/atom-julia-client/blob/master/manual/workflow.md\n",
    "\n",
    "https://stackoverflow.com/questions/52910007/creating-and-using-a-custom-module-in-julia\n",
    "\n",
    "https://stackoverflow.com/questions/30667397/what-is-a-good-workflow-for-developing-julia-modules-with-ipython-jupyter\n",
    "\n",
    "CURRENT:\n",
    "https://medium.com/@Jernfrost/my-new-workflow-with-julia-1-0-99711103d97c"
   ]
  },
  {
   "cell_type": "code",
   "execution_count": 7,
   "metadata": {
    "collapsed": false
   },
   "outputs": [
    {
     "data": {
      "text/plain": [
       "\"/Users/rjkyng/Dropbox/Repos/Laplacians.jl/devel\""
      ]
     },
     "execution_count": 7,
     "metadata": {},
     "output_type": "execute_result"
    }
   ],
   "source": [
    "pwd()"
   ]
  },
  {
   "cell_type": "code",
   "execution_count": 8,
   "metadata": {
    "collapsed": false
   },
   "outputs": [
    {
     "name": "stdout",
     "output_type": "stream",
     "text": [
      "  0.000060 seconds (113 allocations: 50.719 KiB)\n"
     ]
    }
   ],
   "source": [
    "@time A = grid2(10,10);"
   ]
  },
  {
   "cell_type": "code",
   "execution_count": 9,
   "metadata": {
    "collapsed": false
   },
   "outputs": [
    {
     "name": "stdout",
     "output_type": "stream",
     "text": [
      "  1.124103 seconds (4.45 k allocations: 419.767 MiB, 38.00% gc time)\n"
     ]
    }
   ],
   "source": [
    "s = 1000\n",
    "n = s*s\n",
    "@time A = grid2(s,s);"
   ]
  },
  {
   "cell_type": "code",
   "execution_count": 10,
   "metadata": {
    "collapsed": false
   },
   "outputs": [
    {
     "name": "stdout",
     "output_type": "stream",
     "text": [
      "  0.691196 seconds (141 allocations: 419.556 MiB, 45.47% gc time)\n"
     ]
    }
   ],
   "source": [
    "s = 1000\n",
    "n = s*s\n",
    "@time A = grid2(s,s);"
   ]
  },
  {
   "cell_type": "code",
   "execution_count": 11,
   "metadata": {
    "collapsed": false
   },
   "outputs": [
    {
     "name": "stdout",
     "output_type": "stream",
     "text": [
      "  4.180330 seconds (154 allocations: 1.639 GiB, 26.94% gc time)\n"
     ]
    }
   ],
   "source": [
    "s = 2000\n",
    "n = s*s\n",
    "@time A = grid2(s,s);"
   ]
  },
  {
   "cell_type": "code",
   "execution_count": 12,
   "metadata": {
    "collapsed": false
   },
   "outputs": [
    {
     "data": {
      "text/plain": [
       "274.53629302978516"
      ]
     },
     "execution_count": 12,
     "metadata": {},
     "output_type": "execute_result"
    }
   ],
   "source": [
    "Base.summarysize(A)/(2^10)^2 # num. of mega bytes?"
   ]
  },
  {
   "cell_type": "code",
   "execution_count": 13,
   "metadata": {
    "collapsed": false
   },
   "outputs": [
    {
     "name": "stdout",
     "output_type": "stream",
     "text": [
      " 15.392287 seconds (171 allocations: 6.556 GiB, 10.17% gc time)\n"
     ]
    }
   ],
   "source": [
    "s = 4000\n",
    "n = s*s\n",
    "@time A = grid2(s,s);"
   ]
  },
  {
   "cell_type": "code",
   "execution_count": 14,
   "metadata": {
    "collapsed": false
   },
   "outputs": [
    {
     "data": {
      "text/plain": [
       "1098.3888320922852"
      ]
     },
     "execution_count": 14,
     "metadata": {},
     "output_type": "execute_result"
    }
   ],
   "source": [
    "Base.summarysize(A)/(2^10)^2 # num. of mega bytes?"
   ]
  },
  {
   "cell_type": "code",
   "execution_count": 15,
   "metadata": {
    "collapsed": false
   },
   "outputs": [
    {
     "data": {
      "text/plain": [
       "4.000887532830197"
      ]
     },
     "execution_count": 15,
     "metadata": {},
     "output_type": "execute_result"
    }
   ],
   "source": [
    "1098.3888320922852/274.53629302978516"
   ]
  },
  {
   "cell_type": "markdown",
   "metadata": {},
   "source": [
    "# try new grid gen "
   ]
  },
  {
   "cell_type": "code",
   "execution_count": 16,
   "metadata": {
    "collapsed": false
   },
   "outputs": [
    {
     "name": "stdout",
     "output_type": "stream",
     "text": [
      "\"hey\" = \"hey\"\n"
     ]
    },
    {
     "data": {
      "text/plain": [
       "Laplacians.IJV{Number,Integer}(9, 12, Integer[1, 1, 4, 4, 7, 2, 2, 5, 5, 8, 3, 6], Integer[2, 4, 5, 7, 8, 3, 5, 6, 8, 9, 6, 9], Number[1, 1, 1, 1, 1, 1, 1, 1, 1, 1, 1, 1])"
      ]
     },
     "execution_count": 16,
     "metadata": {},
     "output_type": "execute_result"
    }
   ],
   "source": [
    "ijv_g1 = grid2_ijv2(3,3)"
   ]
  },
  {
   "cell_type": "code",
   "execution_count": 19,
   "metadata": {
    "collapsed": false
   },
   "outputs": [
    {
     "data": {
      "text/plain": [
       "9×9 SparseMatrixCSC{Number,Integer} with 12 stored entries:\n",
       "  [1, 2]  =  1\n",
       "  [2, 3]  =  1\n",
       "  [1, 4]  =  1\n",
       "  [2, 5]  =  1\n",
       "  [4, 5]  =  1\n",
       "  [3, 6]  =  1\n",
       "  [5, 6]  =  1\n",
       "  [4, 7]  =  1\n",
       "  [5, 8]  =  1\n",
       "  [7, 8]  =  1\n",
       "  [6, 9]  =  1\n",
       "  [8, 9]  =  1"
      ]
     },
     "execution_count": 19,
     "metadata": {},
     "output_type": "execute_result"
    }
   ],
   "source": [
    "A1 = sparse(ijv_g1)"
   ]
  },
  {
   "cell_type": "code",
   "execution_count": 20,
   "metadata": {
    "collapsed": false
   },
   "outputs": [
    {
     "data": {
      "text/plain": [
       "([1.0, 1.0, 1.0, 2.0, 2.0, 2.0, 3.0, 3.0, 3.0], [1.0, 2.0, 3.0, 1.0, 2.0, 3.0, 1.0, 2.0, 3.0])"
      ]
     },
     "execution_count": 20,
     "metadata": {},
     "output_type": "execute_result"
    }
   ],
   "source": [
    "(x_g1,y_g1) = grid2coords(3,3)"
   ]
  },
  {
   "cell_type": "code",
   "execution_count": 21,
   "metadata": {
    "collapsed": false
   },
   "outputs": [
    {
     "name": "stderr",
     "output_type": "stream",
     "text": [
      "┌ Warning: `getindex(o::PyObject, s::AbstractString)` is deprecated in favor of dot overloading (`getproperty`) so elements should now be accessed as e.g. `o.\"s\"` instead of `o[\"s\"]`.\n",
      "│   caller = top-level scope at none:0\n",
      "└ @ Core none:0\n"
     ]
    }
   ],
   "source": [
    "using PyPlot"
   ]
  },
  {
   "cell_type": "code",
   "execution_count": 33,
   "metadata": {
    "collapsed": false
   },
   "outputs": [
    {
     "data": {
      "image/svg+xml": [
       "<?xml version=\"1.0\" encoding=\"utf-8\"?>\n",
       "<svg xmlns=\"http://www.w3.org/2000/svg\" xmlns:xlink=\"http://www.w3.org/1999/xlink\" width=\"600\" height=\"400\" viewBox=\"0 0 2400 1600\">\n",
       "<defs>\n",
       "  <clipPath id=\"clip4400\">\n",
       "    <rect x=\"0\" y=\"0\" width=\"2400\" height=\"1600\"/>\n",
       "  </clipPath>\n",
       "</defs>\n",
       "<polygon clip-path=\"url(#clip4400)\" points=\"\n",
       "0,1600 2400,1600 2400,0 0,0 \n",
       "  \" fill=\"#ffffff\" fill-rule=\"evenodd\" fill-opacity=\"1\"/>\n",
       "<defs>\n",
       "  <clipPath id=\"clip4401\">\n",
       "    <rect x=\"480\" y=\"0\" width=\"1681\" height=\"1600\"/>\n",
       "  </clipPath>\n",
       "</defs>\n",
       "<polygon clip-path=\"url(#clip4400)\" points=\"\n",
       "78.7402,1552.76 2321.26,1552.76 2321.26,47.2441 78.7402,47.2441 \n",
       "  \" fill=\"#ffffff\" fill-rule=\"evenodd\" fill-opacity=\"1\"/>\n",
       "<defs>\n",
       "  <clipPath id=\"clip4402\">\n",
       "    <rect x=\"78\" y=\"47\" width=\"2244\" height=\"1507\"/>\n",
       "  </clipPath>\n",
       "</defs>\n",
       "<polyline clip-path=\"url(#clip4402)\" style=\"stroke:#0000ff; stroke-width:4; stroke-opacity:1; fill:none\" points=\"\n",
       "  180.673,1484.32 180.673,800 \n",
       "  \"/>\n",
       "<polyline clip-path=\"url(#clip4402)\" style=\"stroke:#0000ff; stroke-width:4; stroke-opacity:1; fill:none\" points=\"\n",
       "  180.673,800 180.673,115.676 \n",
       "  \"/>\n",
       "<polyline clip-path=\"url(#clip4402)\" style=\"stroke:#0000ff; stroke-width:4; stroke-opacity:1; fill:none\" points=\"\n",
       "  180.673,1484.32 1200,1484.32 \n",
       "  \"/>\n",
       "<polyline clip-path=\"url(#clip4402)\" style=\"stroke:#0000ff; stroke-width:4; stroke-opacity:1; fill:none\" points=\"\n",
       "  180.673,800 1200,800 \n",
       "  \"/>\n",
       "<polyline clip-path=\"url(#clip4402)\" style=\"stroke:#0000ff; stroke-width:4; stroke-opacity:1; fill:none\" points=\"\n",
       "  1200,1484.32 1200,800 \n",
       "  \"/>\n",
       "<polyline clip-path=\"url(#clip4402)\" style=\"stroke:#0000ff; stroke-width:4; stroke-opacity:1; fill:none\" points=\"\n",
       "  180.673,115.676 1200,115.676 \n",
       "  \"/>\n",
       "<polyline clip-path=\"url(#clip4402)\" style=\"stroke:#0000ff; stroke-width:4; stroke-opacity:1; fill:none\" points=\"\n",
       "  1200,800 1200,115.676 \n",
       "  \"/>\n",
       "<polyline clip-path=\"url(#clip4402)\" style=\"stroke:#0000ff; stroke-width:4; stroke-opacity:1; fill:none\" points=\"\n",
       "  1200,1484.32 2219.33,1484.32 \n",
       "  \"/>\n",
       "<polyline clip-path=\"url(#clip4402)\" style=\"stroke:#0000ff; stroke-width:4; stroke-opacity:1; fill:none\" points=\"\n",
       "  1200,800 2219.33,800 \n",
       "  \"/>\n",
       "<polyline clip-path=\"url(#clip4402)\" style=\"stroke:#0000ff; stroke-width:4; stroke-opacity:1; fill:none\" points=\"\n",
       "  2219.33,1484.32 2219.33,800 \n",
       "  \"/>\n",
       "<polyline clip-path=\"url(#clip4402)\" style=\"stroke:#0000ff; stroke-width:4; stroke-opacity:1; fill:none\" points=\"\n",
       "  1200,115.676 2219.33,115.676 \n",
       "  \"/>\n",
       "<polyline clip-path=\"url(#clip4402)\" style=\"stroke:#0000ff; stroke-width:4; stroke-opacity:1; fill:none\" points=\"\n",
       "  2219.33,800 2219.33,115.676 \n",
       "  \"/>\n",
       "</svg>\n"
      ]
     },
     "metadata": {},
     "output_type": "display_data"
    }
   ],
   "source": [
    "p = plot_graph(A1,x_g1,y_g1;dots=false);"
   ]
  },
  {
   "cell_type": "code",
   "execution_count": 34,
   "metadata": {
    "collapsed": false
   },
   "outputs": [
    {
     "data": {
      "text/plain": [
       "9×9 Array{Float64,2}:\n",
       " 0.0  1.0  0.0  1.0  0.0  0.0  0.0  0.0  0.0\n",
       " 0.0  0.0  1.0  0.0  1.0  0.0  0.0  0.0  0.0\n",
       " 0.0  0.0  0.0  0.0  0.0  1.0  0.0  0.0  0.0\n",
       " 0.0  0.0  0.0  0.0  1.0  0.0  1.0  0.0  0.0\n",
       " 0.0  0.0  0.0  0.0  0.0  1.0  0.0  1.0  0.0\n",
       " 0.0  0.0  0.0  0.0  0.0  0.0  0.0  0.0  1.0\n",
       " 0.0  0.0  0.0  0.0  0.0  0.0  0.0  1.0  0.0\n",
       " 0.0  0.0  0.0  0.0  0.0  0.0  0.0  0.0  1.0\n",
       " 0.0  0.0  0.0  0.0  0.0  0.0  0.0  0.0  0.0"
      ]
     },
     "execution_count": 34,
     "metadata": {},
     "output_type": "execute_result"
    }
   ],
   "source": [
    "A1+zeros(size(A1))"
   ]
  },
  {
   "cell_type": "code",
   "execution_count": 35,
   "metadata": {
    "collapsed": false
   },
   "outputs": [
    {
     "data": {
      "text/plain": [
       "9×9 SparseMatrixCSC{Number,Integer} with 12 stored entries:\n",
       "  [1, 2]  =  1\n",
       "  [2, 3]  =  1\n",
       "  [1, 4]  =  1\n",
       "  [2, 5]  =  1\n",
       "  [4, 5]  =  1\n",
       "  [3, 6]  =  1\n",
       "  [5, 6]  =  1\n",
       "  [4, 7]  =  1\n",
       "  [5, 8]  =  1\n",
       "  [7, 8]  =  1\n",
       "  [6, 9]  =  1\n",
       "  [8, 9]  =  1"
      ]
     },
     "execution_count": 35,
     "metadata": {},
     "output_type": "execute_result"
    }
   ],
   "source": [
    "A1"
   ]
  },
  {
   "cell_type": "code",
   "execution_count": 36,
   "metadata": {
    "collapsed": false
   },
   "outputs": [
    {
     "data": {
      "text/plain": [
       "9×9 SparseMatrixCSC{Any,Integer} with 24 stored entries:\n",
       "  [2, 1]  =  1\n",
       "  [4, 1]  =  1\n",
       "  [1, 2]  =  1\n",
       "  [3, 2]  =  1\n",
       "  [5, 2]  =  1\n",
       "  [2, 3]  =  1\n",
       "  [6, 3]  =  1\n",
       "  [1, 4]  =  1\n",
       "  [5, 4]  =  1\n",
       "  [7, 4]  =  1\n",
       "  [2, 5]  =  1\n",
       "  [4, 5]  =  1\n",
       "  [6, 5]  =  1\n",
       "  [8, 5]  =  1\n",
       "  [3, 6]  =  1\n",
       "  [5, 6]  =  1\n",
       "  [9, 6]  =  1\n",
       "  [4, 7]  =  1\n",
       "  [8, 7]  =  1\n",
       "  [5, 8]  =  1\n",
       "  [7, 8]  =  1\n",
       "  [9, 8]  =  1\n",
       "  [6, 9]  =  1\n",
       "  [8, 9]  =  1"
      ]
     },
     "execution_count": 36,
     "metadata": {},
     "output_type": "execute_result"
    }
   ],
   "source": [
    "A1+A1'"
   ]
  },
  {
   "cell_type": "markdown",
   "metadata": {},
   "source": [
    "note the type SparseMatrixCSC{Any,Integer}\n",
    "\n",
    "seems like a bug?"
   ]
  },
  {
   "cell_type": "markdown",
   "metadata": {},
   "source": [
    "why isn't Dan getting this?"
   ]
  },
  {
   "cell_type": "markdown",
   "metadata": {},
   "source": [
    "NOW CHANGED THE TYPES:"
   ]
  },
  {
   "cell_type": "code",
   "execution_count": 44,
   "metadata": {
    "collapsed": false
   },
   "outputs": [
    {
     "data": {
      "text/plain": [
       "Laplacians.IJV{Float64,Int64}(9, 12, [1, 1, 4, 4, 7, 2, 2, 5, 5, 8, 3, 6], [2, 4, 5, 7, 8, 3, 5, 6, 8, 9, 6, 9], [1.0, 1.0, 1.0, 1.0, 1.0, 1.0, 1.0, 1.0, 1.0, 1.0, 1.0, 1.0])"
      ]
     },
     "execution_count": 44,
     "metadata": {},
     "output_type": "execute_result"
    }
   ],
   "source": [
    "ijv_g1 = grid2_ijv2(3,3)"
   ]
  },
  {
   "cell_type": "code",
   "execution_count": 46,
   "metadata": {
    "collapsed": false
   },
   "outputs": [
    {
     "data": {
      "text/plain": [
       "9×9 SparseMatrixCSC{Float64,Int64} with 12 stored entries:\n",
       "  [1, 2]  =  1.0\n",
       "  [2, 3]  =  1.0\n",
       "  [1, 4]  =  1.0\n",
       "  [2, 5]  =  1.0\n",
       "  [4, 5]  =  1.0\n",
       "  [3, 6]  =  1.0\n",
       "  [5, 6]  =  1.0\n",
       "  [4, 7]  =  1.0\n",
       "  [5, 8]  =  1.0\n",
       "  [7, 8]  =  1.0\n",
       "  [6, 9]  =  1.0\n",
       "  [8, 9]  =  1.0"
      ]
     },
     "execution_count": 46,
     "metadata": {},
     "output_type": "execute_result"
    }
   ],
   "source": [
    "A1 = sparse(ijv_g1)"
   ]
  },
  {
   "cell_type": "code",
   "execution_count": 47,
   "metadata": {
    "collapsed": false
   },
   "outputs": [
    {
     "data": {
      "text/plain": [
       "3×3 SparseMatrixCSC{Float64,Int64} with 6 stored entries:\n",
       "  [2, 1]  =  1.0\n",
       "  [3, 1]  =  1.0\n",
       "  [1, 2]  =  1.0\n",
       "  [3, 2]  =  1.0\n",
       "  [1, 3]  =  1.0\n",
       "  [2, 3]  =  1.0"
      ]
     },
     "execution_count": 47,
     "metadata": {},
     "output_type": "execute_result"
    }
   ],
   "source": [
    "ijv_g2 = ring_graph(3)"
   ]
  },
  {
   "cell_type": "code",
   "execution_count": 48,
   "metadata": {
    "collapsed": false
   },
   "outputs": [
    {
     "data": {
      "text/plain": [
       "3-element Array{Int64,1}:\n",
       " 1\n",
       " 2\n",
       " 3"
      ]
     },
     "execution_count": 48,
     "metadata": {},
     "output_type": "execute_result"
    }
   ],
   "source": [
    "collect(1:3)"
   ]
  },
  {
   "cell_type": "code",
   "execution_count": null,
   "metadata": {
    "collapsed": true
   },
   "outputs": [],
   "source": []
  }
 ],
 "metadata": {
  "kernelspec": {
   "display_name": "Julia 1.1.0",
   "language": "julia",
   "name": "julia-1.1"
  },
  "language_info": {
   "file_extension": ".jl",
   "mimetype": "application/julia",
   "name": "julia",
   "version": "1.1.0"
  }
 },
 "nbformat": 4,
 "nbformat_minor": 2
}
