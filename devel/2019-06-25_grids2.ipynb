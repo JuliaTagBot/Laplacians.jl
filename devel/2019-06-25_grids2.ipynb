{
 "cells": [
  {
   "cell_type": "code",
   "execution_count": null,
   "metadata": {
    "collapsed": true
   },
   "outputs": [],
   "source": [
    "using Revise\n",
    "using Laplacians\n",
    "using Pkg\n",
    "@show Pkg.pathof(Laplacians)\n",
    "using SparseArrays\n",
    "using LinearAlgebra\n",
    "using Statistics\n"
   ]
  }
 ],
 "metadata": {
  "kernelspec": {
   "display_name": "Julia 1.1.0",
   "language": "julia",
   "name": "julia-1.1"
  },
  "language_info": {
   "file_extension": ".jl",
   "mimetype": "application/julia",
   "name": "julia",
   "version": "1.1.0"
  }
 },
 "nbformat": 4,
 "nbformat_minor": 2
}
