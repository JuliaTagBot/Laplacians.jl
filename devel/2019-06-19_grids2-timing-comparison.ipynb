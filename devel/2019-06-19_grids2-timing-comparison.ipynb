{
 "cells": [
  {
   "cell_type": "code",
   "execution_count": null,
   "metadata": {
    "collapsed": true
   },
   "outputs": [],
   "source": [
    "# I set the package using (v1.1) pkg> add /Users/rjkyng/Dropbox/Repos/Laplacians.jl\n",
    "# hopefully that works\n",
    "# git checkout perf-tbest-dev"
   ]
  },
  {
   "cell_type": "code",
   "execution_count": 1,
   "metadata": {
    "collapsed": false
   },
   "outputs": [],
   "source": [
    "using Revise\n",
    "using Laplacians"
   ]
  },
  {
   "cell_type": "code",
   "execution_count": 3,
   "metadata": {
    "collapsed": false
   },
   "outputs": [
    {
     "data": {
      "text/plain": [
       "\"/Users/rjkyng/Dropbox/Repos/Laplacians.jl/src/Laplacians.jl\""
      ]
     },
     "execution_count": 3,
     "metadata": {},
     "output_type": "execute_result"
    }
   ],
   "source": [
    "using Pkg\n",
    "Pkg.pathof(Laplacians)"
   ]
  },
  {
   "cell_type": "code",
   "execution_count": 41,
   "metadata": {
    "collapsed": true
   },
   "outputs": [],
   "source": [
    "using SparseArrays\n",
    "using LinearAlgebra"
   ]
  },
  {
   "cell_type": "code",
   "execution_count": 5,
   "metadata": {
    "collapsed": false
   },
   "outputs": [
    {
     "name": "stdout",
     "output_type": "stream",
     "text": [
      "  0.551390 seconds (1.65 M allocations: 81.866 MiB, 4.67% gc time)\n"
     ]
    }
   ],
   "source": [
    "@time A = grid2(10,10);"
   ]
  },
  {
   "cell_type": "code",
   "execution_count": 29,
   "metadata": {
    "collapsed": false
   },
   "outputs": [
    {
     "name": "stdout",
     "output_type": "stream",
     "text": [
      "  0.772985 seconds (141 allocations: 419.556 MiB, 40.32% gc time)\n"
     ]
    }
   ],
   "source": [
    "s = 1000\n",
    "n = s*s\n",
    "@time A1 = grid2(s,s);"
   ]
  },
  {
   "cell_type": "code",
   "execution_count": 31,
   "metadata": {
    "collapsed": false
   },
   "outputs": [
    {
     "name": "stdout",
     "output_type": "stream",
     "text": [
      "  0.296654 seconds (28 allocations: 129.594 MiB, 67.44% gc time)\n",
      "  0.044956 seconds (22 allocations: 106.721 MiB)\n"
     ]
    }
   ],
   "source": [
    "s = 1000\n",
    "n = s*s\n",
    "@time A2 = sparse(ggrid2_ijv(s,s))\n",
    "@time A2 = A2+A2';"
   ]
  },
  {
   "cell_type": "code",
   "execution_count": 36,
   "metadata": {
    "collapsed": false
   },
   "outputs": [
    {
     "data": {
      "text/plain": [
       "3996000"
      ]
     },
     "execution_count": 36,
     "metadata": {},
     "output_type": "execute_result"
    }
   ],
   "source": [
    "nnz(A1)"
   ]
  },
  {
   "cell_type": "code",
   "execution_count": 37,
   "metadata": {
    "collapsed": false
   },
   "outputs": [
    {
     "data": {
      "text/plain": [
       "3996000"
      ]
     },
     "execution_count": 37,
     "metadata": {},
     "output_type": "execute_result"
    }
   ],
   "source": [
    "nnz(A2)"
   ]
  },
  {
   "cell_type": "code",
   "execution_count": 42,
   "metadata": {
    "collapsed": false
   },
   "outputs": [
    {
     "data": {
      "text/plain": [
       "0.0"
      ]
     },
     "execution_count": 42,
     "metadata": {},
     "output_type": "execute_result"
    }
   ],
   "source": [
    "norm(A1-A2)"
   ]
  },
  {
   "cell_type": "code",
   "execution_count": 43,
   "metadata": {
    "collapsed": false
   },
   "outputs": [
    {
     "name": "stdout",
     "output_type": "stream",
     "text": [
      "  6.741375 seconds (171 allocations: 3.688 GiB, 14.93% gc time)\n"
     ]
    }
   ],
   "source": [
    "s = 3000\n",
    "n = s*s\n",
    "@time A = grid2(s,s);"
   ]
  },
  {
   "cell_type": "code",
   "execution_count": 45,
   "metadata": {
    "collapsed": false
   },
   "outputs": [
    {
     "name": "stdout",
     "output_type": "stream",
     "text": [
      "  1.638598 seconds (31.20 k allocations: 1.141 GiB, 33.39% gc time)\n",
      "  1.070526 seconds (22 allocations: 961.030 MiB, 24.68% gc time)\n"
     ]
    }
   ],
   "source": [
    "s = 3000\n",
    "n = s*s\n",
    "@time A = sparse(ggrid2_ijv(s,s));\n",
    "@time A = A+A';"
   ]
  },
  {
   "cell_type": "code",
   "execution_count": null,
   "metadata": {
    "collapsed": true
   },
   "outputs": [],
   "source": []
  }
 ],
 "metadata": {
  "kernelspec": {
   "display_name": "Julia 1.1.0",
   "language": "julia",
   "name": "julia-1.1"
  },
  "language_info": {
   "file_extension": ".jl",
   "mimetype": "application/julia",
   "name": "julia",
   "version": "1.1.0"
  }
 },
 "nbformat": 4,
 "nbformat_minor": 2
}
