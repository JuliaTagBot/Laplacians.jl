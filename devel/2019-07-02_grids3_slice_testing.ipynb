{
 "cells": [
  {
   "cell_type": "code",
   "execution_count": 1,
   "metadata": {
    "collapsed": false
   },
   "outputs": [
    {
     "name": "stderr",
     "output_type": "stream",
     "text": [
      "┌ Info: Recompiling stale cache file /Users/rjkyng/.julia/compiled/v1.1/Laplacians/poVbr.ji for Laplacians [6f8e5838-0efe-5de0-80a3-5fb4f8dbb1de]\n",
      "└ @ Base loading.jl:1184\n"
     ]
    },
    {
     "name": "stdout",
     "output_type": "stream",
     "text": [
      "Pkg.pathof(Laplacians) = \"/Users/rjkyng/Dropbox/Repos/Laplacians.jl/src/Laplacians.jl\"\n"
     ]
    }
   ],
   "source": [
    "using Revise\n",
    "using Laplacians\n",
    "using Pkg\n",
    "@show Pkg.pathof(Laplacians)\n",
    "using SparseArrays\n",
    "using LinearAlgebra"
   ]
  },
  {
   "cell_type": "code",
   "execution_count": 89,
   "metadata": {
    "collapsed": false
   },
   "outputs": [
    {
     "name": "stdout",
     "output_type": "stream",
     "text": [
      "  0.000015 seconds (30 allocations: 8.641 KiB)\n"
     ]
    }
   ],
   "source": [
    "s = 3\n",
    "s1 = s\n",
    "s2 = s\n",
    "s3 = s\n",
    "b1,b2,b3 = 3,3,3\n",
    "w = 1e6\n",
    "@time A = ggrid3_checkered(s1,s2,s3,b1,b2,b3,w);"
   ]
  },
  {
   "cell_type": "code",
   "execution_count": 111,
   "metadata": {
    "collapsed": false
   },
   "outputs": [
    {
     "name": "stdout",
     "output_type": "stream",
     "text": [
      "(x[13], y[13], z[13]) = (1.0, 2.0, 2.0)\n",
      "(x[14], y[14], z[14]) = (2.0, 2.0, 2.0)\n"
     ]
    },
    {
     "data": {
      "text/plain": [
       "(2.0, 2.0, 2.0)"
      ]
     },
     "execution_count": 111,
     "metadata": {},
     "output_type": "execute_result"
    }
   ],
   "source": [
    "x,y,z = ggrid3coords(s1,s2,s3);\n",
    "@show x[13],y[13],z[13]\n",
    "@show x[14],y[14],z[14]"
   ]
  },
  {
   "cell_type": "code",
   "execution_count": 106,
   "metadata": {
    "collapsed": false
   },
   "outputs": [
    {
     "data": {
      "image/svg+xml": [
       "<?xml version=\"1.0\" encoding=\"utf-8\"?>\n",
       "<svg xmlns=\"http://www.w3.org/2000/svg\" xmlns:xlink=\"http://www.w3.org/1999/xlink\" width=\"600\" height=\"400\" viewBox=\"0 0 2400 1600\">\n",
       "<defs>\n",
       "  <clipPath id=\"clip7000\">\n",
       "    <rect x=\"0\" y=\"0\" width=\"2400\" height=\"1600\"/>\n",
       "  </clipPath>\n",
       "</defs>\n",
       "<polygon clip-path=\"url(#clip7000)\" points=\"\n",
       "0,1600 2400,1600 2400,0 0,0 \n",
       "  \" fill=\"#ffffff\" fill-rule=\"evenodd\" fill-opacity=\"1\"/>\n",
       "<defs>\n",
       "  <clipPath id=\"clip7001\">\n",
       "    <rect x=\"480\" y=\"0\" width=\"1681\" height=\"1600\"/>\n",
       "  </clipPath>\n",
       "</defs>\n",
       "<polygon clip-path=\"url(#clip7000)\" points=\"\n",
       "447.244,1552.76 1952.76,1552.76 1952.76,47.2441 447.244,47.2441 \n",
       "  \" fill=\"#ffffff\" fill-rule=\"evenodd\" fill-opacity=\"1\"/>\n",
       "<defs>\n",
       "  <clipPath id=\"clip7002\">\n",
       "    <rect x=\"447\" y=\"47\" width=\"1507\" height=\"1507\"/>\n",
       "  </clipPath>\n",
       "</defs>\n",
       "<polyline clip-path=\"url(#clip7000)\" style=\"stroke:#cccccc; stroke-width:2; stroke-opacity:0.1; fill:none\" points=\"\n",
       "  474.257,1466.34 1025.31,1199.53 \n",
       "  \"/>\n",
       "<polyline clip-path=\"url(#clip7000)\" style=\"stroke:#cccccc; stroke-width:2; stroke-opacity:0.1; fill:none\" points=\"\n",
       "  1025.31,1199.53 1025.31,49.7611 \n",
       "  \"/>\n",
       "<polyline clip-path=\"url(#clip7000)\" style=\"stroke:#ededed; stroke-width:2; stroke-opacity:0.1; fill:none\" points=\"\n",
       "  586.811,1476.83 1137.87,1210.02 \n",
       "  \"/>\n",
       "<polyline clip-path=\"url(#clip7000)\" style=\"stroke:#ededed; stroke-width:2; stroke-opacity:0.1; fill:none\" points=\"\n",
       "  1137.87,1210.02 1137.87,60.2488 \n",
       "  \"/>\n",
       "<polyline clip-path=\"url(#clip7000)\" style=\"stroke:#cccccc; stroke-width:2; stroke-opacity:0.1; fill:none\" points=\"\n",
       "  699.365,1487.31 1250.42,1220.51 \n",
       "  \"/>\n",
       "<polyline clip-path=\"url(#clip7000)\" style=\"stroke:#cccccc; stroke-width:2; stroke-opacity:0.1; fill:none\" points=\"\n",
       "  1250.42,1220.51 1250.42,70.7364 \n",
       "  \"/>\n",
       "<polyline clip-path=\"url(#clip7000)\" style=\"stroke:#ededed; stroke-width:2; stroke-opacity:0.1; fill:none\" points=\"\n",
       "  811.918,1497.8 1362.97,1231 \n",
       "  \"/>\n",
       "<polyline clip-path=\"url(#clip7000)\" style=\"stroke:#ededed; stroke-width:2; stroke-opacity:0.1; fill:none\" points=\"\n",
       "  1362.97,1231 1362.97,81.224 \n",
       "  \"/>\n",
       "<polyline clip-path=\"url(#clip7000)\" style=\"stroke:#cccccc; stroke-width:2; stroke-opacity:0.1; fill:none\" points=\"\n",
       "  924.472,1508.29 1475.53,1241.48 \n",
       "  \"/>\n",
       "<polyline clip-path=\"url(#clip7000)\" style=\"stroke:#cccccc; stroke-width:2; stroke-opacity:0.1; fill:none\" points=\"\n",
       "  1475.53,1241.48 1475.53,91.7117 \n",
       "  \"/>\n",
       "<polyline clip-path=\"url(#clip7000)\" style=\"stroke:#ededed; stroke-width:2; stroke-opacity:0.1; fill:none\" points=\"\n",
       "  1037.03,1518.78 1588.08,1251.97 \n",
       "  \"/>\n",
       "<polyline clip-path=\"url(#clip7000)\" style=\"stroke:#ededed; stroke-width:2; stroke-opacity:0.1; fill:none\" points=\"\n",
       "  1588.08,1251.97 1588.08,102.199 \n",
       "  \"/>\n",
       "<polyline clip-path=\"url(#clip7000)\" style=\"stroke:#cccccc; stroke-width:2; stroke-opacity:0.1; fill:none\" points=\"\n",
       "  1149.58,1529.26 1700.64,1262.46 \n",
       "  \"/>\n",
       "<polyline clip-path=\"url(#clip7000)\" style=\"stroke:#cccccc; stroke-width:2; stroke-opacity:0.1; fill:none\" points=\"\n",
       "  1700.64,1262.46 1700.64,112.687 \n",
       "  \"/>\n",
       "<polyline clip-path=\"url(#clip7000)\" style=\"stroke:#ededed; stroke-width:2; stroke-opacity:0.1; fill:none\" points=\"\n",
       "  1262.13,1539.75 1813.19,1272.95 \n",
       "  \"/>\n",
       "<polyline clip-path=\"url(#clip7000)\" style=\"stroke:#ededed; stroke-width:2; stroke-opacity:0.1; fill:none\" points=\"\n",
       "  1813.19,1272.95 1813.19,123.175 \n",
       "  \"/>\n",
       "<polyline clip-path=\"url(#clip7000)\" style=\"stroke:#cccccc; stroke-width:2; stroke-opacity:0.1; fill:none\" points=\"\n",
       "  1374.69,1550.24 1925.74,1283.43 \n",
       "  \"/>\n",
       "<polyline clip-path=\"url(#clip7000)\" style=\"stroke:#cccccc; stroke-width:2; stroke-opacity:0.1; fill:none\" points=\"\n",
       "  1925.74,1283.43 1925.74,133.662 \n",
       "  \"/>\n",
       "<polyline clip-path=\"url(#clip7000)\" style=\"stroke:#cccccc; stroke-width:2; stroke-opacity:0.1; fill:none\" points=\"\n",
       "  462.84,1456.27 1417.3,1545.2 \n",
       "  \"/>\n",
       "<polyline clip-path=\"url(#clip7000)\" style=\"stroke:#cccccc; stroke-width:2; stroke-opacity:0.1; fill:none\" points=\"\n",
       "  462.84,1456.27 462.84,306.498 \n",
       "  \"/>\n",
       "<polyline clip-path=\"url(#clip7000)\" style=\"stroke:#ededed; stroke-width:2; stroke-opacity:0.1; fill:none\" points=\"\n",
       "  527.823,1424.81 1482.28,1513.74 \n",
       "  \"/>\n",
       "<polyline clip-path=\"url(#clip7000)\" style=\"stroke:#ededed; stroke-width:2; stroke-opacity:0.1; fill:none\" points=\"\n",
       "  527.823,1424.81 527.823,275.035 \n",
       "  \"/>\n",
       "<polyline clip-path=\"url(#clip7000)\" style=\"stroke:#cccccc; stroke-width:2; stroke-opacity:0.1; fill:none\" points=\"\n",
       "  592.806,1393.34 1547.26,1482.28 \n",
       "  \"/>\n",
       "<polyline clip-path=\"url(#clip7000)\" style=\"stroke:#cccccc; stroke-width:2; stroke-opacity:0.1; fill:none\" points=\"\n",
       "  592.806,1393.34 592.806,243.573 \n",
       "  \"/>\n",
       "<polyline clip-path=\"url(#clip7000)\" style=\"stroke:#ededed; stroke-width:2; stroke-opacity:0.1; fill:none\" points=\"\n",
       "  657.789,1361.88 1612.25,1450.82 \n",
       "  \"/>\n",
       "<polyline clip-path=\"url(#clip7000)\" style=\"stroke:#ededed; stroke-width:2; stroke-opacity:0.1; fill:none\" points=\"\n",
       "  657.789,1361.88 657.789,212.11 \n",
       "  \"/>\n",
       "<polyline clip-path=\"url(#clip7000)\" style=\"stroke:#cccccc; stroke-width:2; stroke-opacity:0.1; fill:none\" points=\"\n",
       "  722.772,1330.42 1677.23,1419.35 \n",
       "  \"/>\n",
       "<polyline clip-path=\"url(#clip7000)\" style=\"stroke:#cccccc; stroke-width:2; stroke-opacity:0.1; fill:none\" points=\"\n",
       "  722.772,1330.42 722.772,180.647 \n",
       "  \"/>\n",
       "<polyline clip-path=\"url(#clip7000)\" style=\"stroke:#ededed; stroke-width:2; stroke-opacity:0.1; fill:none\" points=\"\n",
       "  787.755,1298.96 1742.21,1387.89 \n",
       "  \"/>\n",
       "<polyline clip-path=\"url(#clip7000)\" style=\"stroke:#ededed; stroke-width:2; stroke-opacity:0.1; fill:none\" points=\"\n",
       "  787.755,1298.96 787.755,149.184 \n",
       "  \"/>\n",
       "<polyline clip-path=\"url(#clip7000)\" style=\"stroke:#cccccc; stroke-width:2; stroke-opacity:0.1; fill:none\" points=\"\n",
       "  852.738,1267.49 1807.19,1356.43 \n",
       "  \"/>\n",
       "<polyline clip-path=\"url(#clip7000)\" style=\"stroke:#cccccc; stroke-width:2; stroke-opacity:0.1; fill:none\" points=\"\n",
       "  852.738,1267.49 852.738,117.721 \n",
       "  \"/>\n",
       "<polyline clip-path=\"url(#clip7000)\" style=\"stroke:#ededed; stroke-width:2; stroke-opacity:0.1; fill:none\" points=\"\n",
       "  917.721,1236.03 1872.18,1324.96 \n",
       "  \"/>\n",
       "<polyline clip-path=\"url(#clip7000)\" style=\"stroke:#ededed; stroke-width:2; stroke-opacity:0.1; fill:none\" points=\"\n",
       "  917.721,1236.03 917.721,86.2581 \n",
       "  \"/>\n",
       "<polyline clip-path=\"url(#clip7000)\" style=\"stroke:#cccccc; stroke-width:2; stroke-opacity:0.1; fill:none\" points=\"\n",
       "  982.704,1204.57 1937.16,1293.5 \n",
       "  \"/>\n",
       "<polyline clip-path=\"url(#clip7000)\" style=\"stroke:#cccccc; stroke-width:2; stroke-opacity:0.1; fill:none\" points=\"\n",
       "  982.704,1204.57 982.704,54.7952 \n",
       "  \"/>\n",
       "<polyline clip-path=\"url(#clip7000)\" style=\"stroke:#ededed; stroke-width:2; stroke-opacity:0.1; fill:none\" points=\"\n",
       "  447.244,1272.19 998.3,1005.39 \n",
       "  \"/>\n",
       "<polyline clip-path=\"url(#clip7000)\" style=\"stroke:#ededed; stroke-width:2; stroke-opacity:0.1; fill:none\" points=\"\n",
       "  998.3,1005.39 1952.76,1094.32 \n",
       "  \"/>\n",
       "<polyline clip-path=\"url(#clip7000)\" style=\"stroke:#cccccc; stroke-width:2; stroke-opacity:0.1; fill:none\" points=\"\n",
       "  447.244,1080.56 998.3,813.758 \n",
       "  \"/>\n",
       "<polyline clip-path=\"url(#clip7000)\" style=\"stroke:#cccccc; stroke-width:2; stroke-opacity:0.1; fill:none\" points=\"\n",
       "  998.3,813.758 1952.76,902.693 \n",
       "  \"/>\n",
       "<polyline clip-path=\"url(#clip7000)\" style=\"stroke:#ededed; stroke-width:2; stroke-opacity:0.1; fill:none\" points=\"\n",
       "  447.244,888.935 998.3,622.13 \n",
       "  \"/>\n",
       "<polyline clip-path=\"url(#clip7000)\" style=\"stroke:#ededed; stroke-width:2; stroke-opacity:0.1; fill:none\" points=\"\n",
       "  998.3,622.13 1952.76,711.065 \n",
       "  \"/>\n",
       "<polyline clip-path=\"url(#clip7000)\" style=\"stroke:#cccccc; stroke-width:2; stroke-opacity:0.1; fill:none\" points=\"\n",
       "  447.244,697.307 998.3,430.501 \n",
       "  \"/>\n",
       "<polyline clip-path=\"url(#clip7000)\" style=\"stroke:#cccccc; stroke-width:2; stroke-opacity:0.1; fill:none\" points=\"\n",
       "  998.3,430.501 1952.76,519.436 \n",
       "  \"/>\n",
       "<polyline clip-path=\"url(#clip7000)\" style=\"stroke:#ededed; stroke-width:2; stroke-opacity:0.1; fill:none\" points=\"\n",
       "  447.244,505.678 998.3,238.873 \n",
       "  \"/>\n",
       "<polyline clip-path=\"url(#clip7000)\" style=\"stroke:#ededed; stroke-width:2; stroke-opacity:0.1; fill:none\" points=\"\n",
       "  998.3,238.873 1952.76,327.808 \n",
       "  \"/>\n",
       "<polyline clip-path=\"url(#clip7000)\" style=\"stroke:#cccccc; stroke-width:2; stroke-opacity:0.1; fill:none\" points=\"\n",
       "  447.244,314.049 998.3,47.2441 \n",
       "  \"/>\n",
       "<polyline clip-path=\"url(#clip7000)\" style=\"stroke:#cccccc; stroke-width:2; stroke-opacity:0.1; fill:none\" points=\"\n",
       "  998.3,47.2441 1952.76,136.179 \n",
       "  \"/>\n",
       "<polyline clip-path=\"url(#clip7000)\" style=\"stroke:#000000; stroke-width:4; stroke-opacity:1; fill:none\" points=\"\n",
       "  417.997,1273.54 420.663,1270.61 424.663,1263.73 424.663,1298.29 \n",
       "  \"/>\n",
       "<polyline clip-path=\"url(#clip7000)\" style=\"stroke:#000000; stroke-width:4; stroke-opacity:1; fill:none\" points=\"\n",
       "  415.33,893.223 415.33,891.577 416.664,887.64 417.997,885.349 420.663,882.412 425.996,879.83 428.662,880.185 429.995,881.185 431.329,883.831 431.329,887.122 \n",
       "  429.995,891.059 427.329,897.287 413.997,920.199 432.662,911.163 \n",
       "  \"/>\n",
       "<polyline clip-path=\"url(#clip7000)\" style=\"stroke:#000000; stroke-width:4; stroke-opacity:1; fill:none\" points=\"\n",
       "  416.664,501.091 431.329,493.991 423.329,511.03 427.329,509.093 429.995,509.448 431.329,510.448 432.662,514.74 432.662,518.031 431.329,523.614 428.662,528.196 \n",
       "  424.663,531.778 420.663,533.715 416.664,534.006 415.33,533.005 413.997,530.359 \n",
       "  \"/>\n",
       "<polyline clip-path=\"url(#clip7000)\" style=\"stroke:#000000; stroke-width:4; stroke-opacity:1; fill:none\" points=\"\n",
       "  447.244,1463.82 447.244,1463.82 441.734,1466.49 447.244,1463.82 447.244,1272.19 436.223,1277.53 447.244,1272.19 447.244,1080.56 441.734,1083.23 447.244,1080.56 \n",
       "  447.244,888.935 436.223,894.271 447.244,888.935 447.244,697.307 441.734,699.975 447.244,697.307 447.244,505.678 436.223,511.014 447.244,505.678 447.244,314.049 \n",
       "  441.734,316.718 447.244,314.049 \n",
       "  \"/>\n",
       "<polyline clip-path=\"url(#clip7000)\" style=\"stroke:#000000; stroke-width:4; stroke-opacity:1; fill:none\" points=\"\n",
       "  422.75,1486.15 426.013,1484.8 430.908,1480.32 430.908,1514.88 \n",
       "  \"/>\n",
       "<polyline clip-path=\"url(#clip7000)\" style=\"stroke:#000000; stroke-width:4; stroke-opacity:1; fill:none\" points=\"\n",
       "  453.749,1513.72 452.118,1515.21 453.749,1517.01 455.381,1515.52 453.749,1513.72 \n",
       "  \"/>\n",
       "<polyline clip-path=\"url(#clip7000)\" style=\"stroke:#000000; stroke-width:4; stroke-opacity:1; fill:none\" points=\"\n",
       "  476.591,1484.58 471.696,1485.77 468.433,1490.4 466.802,1498.48 466.802,1503.42 468.433,1511.8 471.696,1517.04 476.591,1519.14 479.854,1519.44 484.749,1518.25 \n",
       "  488.012,1513.62 489.644,1505.54 489.644,1500.61 488.012,1492.23 484.749,1486.99 479.854,1484.88 476.591,1484.58 \n",
       "  \"/>\n",
       "<polyline clip-path=\"url(#clip7000)\" style=\"stroke:#000000; stroke-width:4; stroke-opacity:1; fill:none\" points=\"\n",
       "  647.858,1507.12 651.121,1505.78 656.015,1501.3 656.015,1535.86 \n",
       "  \"/>\n",
       "<polyline clip-path=\"url(#clip7000)\" style=\"stroke:#000000; stroke-width:4; stroke-opacity:1; fill:none\" points=\"\n",
       "  678.857,1534.7 677.225,1536.19 678.857,1537.99 680.489,1536.49 678.857,1534.7 \n",
       "  \"/>\n",
       "<polyline clip-path=\"url(#clip7000)\" style=\"stroke:#000000; stroke-width:4; stroke-opacity:1; fill:none\" points=\"\n",
       "  711.488,1506.47 695.173,1504.95 693.541,1519.61 695.173,1518.11 700.067,1516.92 704.962,1517.38 709.856,1519.48 713.12,1523.08 714.751,1528.17 714.751,1531.46 \n",
       "  713.12,1536.24 709.856,1539.23 704.962,1540.42 700.067,1539.96 695.173,1537.86 693.541,1536.06 691.909,1532.62 \n",
       "  \"/>\n",
       "<polyline clip-path=\"url(#clip7000)\" style=\"stroke:#000000; stroke-width:4; stroke-opacity:1; fill:none\" points=\"\n",
       "  869.702,1529.44 869.702,1527.79 871.334,1524.65 872.965,1523.16 876.228,1521.82 882.755,1522.43 886.018,1524.38 887.649,1526.17 889.281,1529.62 889.281,1532.91 \n",
       "  887.649,1536.05 884.386,1540.68 868.071,1555.62 890.912,1557.75 \n",
       "  \"/>\n",
       "<polyline clip-path=\"url(#clip7000)\" style=\"stroke:#000000; stroke-width:4; stroke-opacity:1; fill:none\" points=\"\n",
       "  903.965,1555.67 902.333,1557.16 903.965,1558.96 905.596,1557.47 903.965,1555.67 \n",
       "  \"/>\n",
       "<polyline clip-path=\"url(#clip7000)\" style=\"stroke:#000000; stroke-width:4; stroke-opacity:1; fill:none\" points=\"\n",
       "  926.806,1526.53 921.912,1527.72 918.649,1532.35 917.017,1540.43 917.017,1545.37 918.649,1553.75 921.912,1558.99 926.806,1561.09 930.069,1561.39 934.964,1560.2 \n",
       "  938.227,1555.57 939.859,1547.5 939.859,1542.56 938.227,1534.18 934.964,1528.94 930.069,1526.83 926.806,1526.53 \n",
       "  \"/>\n",
       "<polyline clip-path=\"url(#clip7000)\" style=\"stroke:#000000; stroke-width:4; stroke-opacity:1; fill:none\" points=\"\n",
       "  1094.81,1550.41 1094.81,1548.77 1096.44,1545.63 1098.07,1544.13 1101.34,1542.79 1107.86,1543.4 1111.13,1545.35 1112.76,1547.15 1114.39,1550.59 1114.39,1553.88 \n",
       "  1112.76,1557.02 1109.49,1561.66 1093.18,1576.59 1116.02,1578.72 \n",
       "  \"/>\n",
       "<polyline clip-path=\"url(#clip7000)\" style=\"stroke:#000000; stroke-width:4; stroke-opacity:1; fill:none\" points=\"\n",
       "  1129.07,1576.65 1127.44,1578.14 1129.07,1579.94 1130.7,1578.44 1129.07,1576.65 \n",
       "  \"/>\n",
       "<polyline clip-path=\"url(#clip7000)\" style=\"stroke:#000000; stroke-width:4; stroke-opacity:1; fill:none\" points=\"\n",
       "  1161.7,1548.42 1145.39,1546.9 1143.76,1561.56 1145.39,1560.06 1150.28,1558.87 1155.18,1559.33 1160.07,1561.43 1163.33,1565.03 1164.97,1570.12 1164.97,1573.41 \n",
       "  1163.33,1578.19 1160.07,1581.18 1155.18,1582.37 1150.28,1581.91 1145.39,1579.81 1143.76,1578.01 1142.12,1574.57 \n",
       "  \"/>\n",
       "<polyline clip-path=\"url(#clip7000)\" style=\"stroke:#000000; stroke-width:4; stroke-opacity:1; fill:none\" points=\"\n",
       "  1321.55,1563.31 1339.5,1564.98 1329.71,1577.24 1334.6,1577.69 1337.86,1579.64 1339.5,1581.44 1341.13,1586.53 1341.13,1589.82 1339.5,1594.61 1336.23,1597.59 \n",
       "  1331.34,1598.78 1326.44,1598.33 1321.55,1596.23 1319.92,1594.43 1318.29,1590.99 \n",
       "  \"/>\n",
       "<polyline clip-path=\"url(#clip7000)\" style=\"stroke:#000000; stroke-width:4; stroke-opacity:1; fill:none\" points=\"\n",
       "  1354.18,1597.62 1352.55,1599.11 1354.18,1600.91 1355.81,1599.42 1354.18,1597.62 \n",
       "  \"/>\n",
       "<polyline clip-path=\"url(#clip7000)\" style=\"stroke:#000000; stroke-width:4; stroke-opacity:1; fill:none\" points=\"\n",
       "  1377.02,1568.48 1372.13,1569.67 1368.86,1574.3 1367.23,1582.38 1367.23,1587.32 1368.86,1595.7 1372.13,1600.94 1377.02,1603.04 1380.28,1603.35 1385.18,1602.16 \n",
       "  1388.44,1597.52 1390.07,1589.45 1390.07,1584.51 1388.44,1576.13 1385.18,1570.89 1380.28,1568.79 1377.02,1568.48 \n",
       "  \"/>\n",
       "<polyline clip-path=\"url(#clip7000)\" style=\"stroke:#000000; stroke-width:4; stroke-opacity:1; fill:none\" points=\"\n",
       "  447.244,1463.82 474.257,1466.34 463.236,1471.67 474.257,1466.34 586.811,1476.83 581.3,1479.49 586.811,1476.83 699.365,1487.31 688.344,1492.65 699.365,1487.31 \n",
       "  811.918,1497.8 806.408,1500.47 811.918,1497.8 924.472,1508.29 913.451,1513.62 924.472,1508.29 1037.03,1518.78 1031.52,1521.44 1037.03,1518.78 1149.58,1529.26 \n",
       "  1138.56,1534.6 1149.58,1529.26 1262.13,1539.75 1256.62,1542.42 1262.13,1539.75 1374.69,1550.24 1363.67,1555.57 1374.69,1550.24 1401.7,1552.76 \n",
       "  \"/>\n",
       "<polyline clip-path=\"url(#clip7000)\" style=\"stroke:#000000; stroke-width:4; stroke-opacity:1; fill:none\" points=\"\n",
       "  1439.27,1570.73 1441.94,1567.79 1445.94,1560.92 1445.94,1595.48 \n",
       "  \"/>\n",
       "<polyline clip-path=\"url(#clip7000)\" style=\"stroke:#000000; stroke-width:4; stroke-opacity:1; fill:none\" points=\"\n",
       "  1464.61,1583.15 1463.27,1585.44 1464.61,1586.44 1465.94,1584.15 1464.61,1583.15 \n",
       "  \"/>\n",
       "<polyline clip-path=\"url(#clip7000)\" style=\"stroke:#000000; stroke-width:4; stroke-opacity:1; fill:none\" points=\"\n",
       "  1483.27,1542.85 1479.27,1546.43 1476.6,1552.66 1475.27,1561.53 1475.27,1566.47 1476.6,1574.05 1479.27,1577.7 1483.27,1577.41 1485.94,1576.12 1489.94,1572.53 \n",
       "  1492.6,1566.31 1493.94,1557.43 1493.94,1552.49 1492.6,1544.91 1489.94,1541.27 1485.94,1541.56 1483.27,1542.85 \n",
       "  \"/>\n",
       "<polyline clip-path=\"url(#clip7000)\" style=\"stroke:#000000; stroke-width:4; stroke-opacity:1; fill:none\" points=\"\n",
       "  1569.24,1507.81 1571.91,1504.87 1575.91,1498 1575.91,1532.56 \n",
       "  \"/>\n",
       "<polyline clip-path=\"url(#clip7000)\" style=\"stroke:#000000; stroke-width:4; stroke-opacity:1; fill:none\" points=\"\n",
       "  1594.57,1520.23 1593.24,1522.52 1594.57,1523.52 1595.9,1521.23 1594.57,1520.23 \n",
       "  \"/>\n",
       "<polyline clip-path=\"url(#clip7000)\" style=\"stroke:#000000; stroke-width:4; stroke-opacity:1; fill:none\" points=\"\n",
       "  1621.23,1476.05 1607.9,1482.5 1606.57,1497.96 1607.9,1495.67 1611.9,1492.09 1615.9,1490.15 1619.9,1489.86 1622.57,1491.86 1623.9,1496.15 1623.9,1499.44 \n",
       "  1622.57,1505.03 1619.9,1509.61 1615.9,1513.19 1611.9,1515.13 1607.9,1515.42 1606.57,1514.42 1605.24,1511.77 \n",
       "  \"/>\n",
       "<polyline clip-path=\"url(#clip7000)\" style=\"stroke:#000000; stroke-width:4; stroke-opacity:1; fill:none\" points=\"\n",
       "  1696.54,1447.82 1696.54,1446.17 1697.87,1442.23 1699.21,1439.94 1701.87,1437.01 1707.21,1434.42 1709.87,1434.78 1711.21,1435.78 1712.54,1438.42 1712.54,1441.72 \n",
       "  1711.21,1445.65 1708.54,1451.88 1695.21,1474.79 1713.87,1465.76 \n",
       "  \"/>\n",
       "<polyline clip-path=\"url(#clip7000)\" style=\"stroke:#000000; stroke-width:4; stroke-opacity:1; fill:none\" points=\"\n",
       "  1724.54,1457.3 1723.2,1459.59 1724.54,1460.59 1725.87,1458.3 1724.54,1457.3 \n",
       "  \"/>\n",
       "<polyline clip-path=\"url(#clip7000)\" style=\"stroke:#000000; stroke-width:4; stroke-opacity:1; fill:none\" points=\"\n",
       "  1743.2,1417 1739.2,1420.58 1736.54,1426.81 1735.2,1435.68 1735.2,1440.62 1736.54,1448.2 1739.2,1451.85 1743.2,1451.56 1745.87,1450.26 1749.87,1446.68 \n",
       "  1752.53,1440.45 1753.87,1431.58 1753.87,1426.64 1752.53,1419.06 1749.87,1415.41 1745.87,1415.7 1743.2,1417 \n",
       "  \"/>\n",
       "<polyline clip-path=\"url(#clip7000)\" style=\"stroke:#000000; stroke-width:4; stroke-opacity:1; fill:none\" points=\"\n",
       "  1826.51,1384.89 1826.51,1383.24 1827.84,1379.31 1829.17,1377.02 1831.84,1374.08 1837.17,1371.5 1839.84,1371.85 1841.17,1372.85 1842.5,1375.5 1842.5,1378.79 \n",
       "  1841.17,1382.73 1838.5,1388.96 1825.17,1411.87 1843.84,1402.83 \n",
       "  \"/>\n",
       "<polyline clip-path=\"url(#clip7000)\" style=\"stroke:#000000; stroke-width:4; stroke-opacity:1; fill:none\" points=\"\n",
       "  1854.5,1394.38 1853.17,1396.67 1854.5,1397.67 1855.84,1395.38 1854.5,1394.38 \n",
       "  \"/>\n",
       "<polyline clip-path=\"url(#clip7000)\" style=\"stroke:#000000; stroke-width:4; stroke-opacity:1; fill:none\" points=\"\n",
       "  1881.17,1350.2 1867.83,1356.65 1866.5,1372.11 1867.83,1369.82 1871.83,1366.24 1875.83,1364.3 1879.83,1364.01 1882.5,1366.01 1883.83,1370.3 1883.83,1373.59 \n",
       "  1882.5,1379.17 1879.83,1383.76 1875.83,1387.34 1871.83,1389.28 1867.83,1389.57 1866.5,1388.57 1865.17,1385.92 \n",
       "  \"/>\n",
       "<polyline clip-path=\"url(#clip7000)\" style=\"stroke:#000000; stroke-width:4; stroke-opacity:1; fill:none\" points=\"\n",
       "  1957.81,1313.09 1972.47,1305.99 1964.47,1323.03 1968.47,1321.09 1971.14,1321.45 1972.47,1322.45 1973.8,1326.74 1973.8,1330.03 1972.47,1335.61 1969.8,1340.2 \n",
       "  1965.8,1343.78 1961.8,1345.71 1957.81,1346.01 1956.47,1345 1955.14,1342.36 \n",
       "  \"/>\n",
       "<polyline clip-path=\"url(#clip7000)\" style=\"stroke:#000000; stroke-width:4; stroke-opacity:1; fill:none\" points=\"\n",
       "  1984.47,1331.45 1983.14,1333.74 1984.47,1334.74 1985.8,1332.45 1984.47,1331.45 \n",
       "  \"/>\n",
       "<polyline clip-path=\"url(#clip7000)\" style=\"stroke:#000000; stroke-width:4; stroke-opacity:1; fill:none\" points=\"\n",
       "  2003.13,1291.14 1999.13,1294.73 1996.47,1300.95 1995.13,1309.83 1995.13,1314.77 1996.47,1322.35 1999.13,1325.99 2003.13,1325.7 2005.8,1324.41 2009.8,1320.83 \n",
       "  2012.47,1314.6 2013.8,1305.73 2013.8,1300.79 2012.47,1293.21 2009.8,1289.56 2005.8,1289.85 2003.13,1291.14 \n",
       "  \"/>\n",
       "<polyline clip-path=\"url(#clip7000)\" style=\"stroke:#000000; stroke-width:4; stroke-opacity:1; fill:none\" points=\"\n",
       "  1401.7,1552.76 1417.3,1545.2 1436.39,1546.98 1417.3,1545.2 1482.28,1513.74 1491.82,1514.63 1482.28,1513.74 1547.26,1482.28 1566.35,1484.06 1547.26,1482.28 \n",
       "  1612.25,1450.82 1621.79,1451.71 1612.25,1450.82 1677.23,1419.35 1696.32,1421.13 1677.23,1419.35 1742.21,1387.89 1751.76,1388.78 1742.21,1387.89 1807.19,1356.43 \n",
       "  1826.28,1358.21 1807.19,1356.43 1872.18,1324.96 1881.72,1325.85 1872.18,1324.96 1937.16,1293.5 1956.25,1295.28 1937.16,1293.5 1952.76,1285.95 \n",
       "  \"/>\n",
       "<polyline clip-path=\"url(#clip7002)\" style=\"stroke:#00008b; stroke-width:4; stroke-opacity:1; fill:none\" points=\"\n",
       "  489.853,1267.16 940.068,1309.11 \n",
       "  \"/>\n",
       "<polyline clip-path=\"url(#clip7002)\" style=\"stroke:#add8e6; stroke-width:4; stroke-opacity:1; fill:none\" points=\"\n",
       "  940.068,1309.11 1390.28,1351.06 \n",
       "  \"/>\n",
       "<polyline clip-path=\"url(#clip7002)\" style=\"stroke:#00008b; stroke-width:4; stroke-opacity:1; fill:none\" points=\"\n",
       "  489.853,1267.16 749.785,1141.31 \n",
       "  \"/>\n",
       "<polyline clip-path=\"url(#clip7002)\" style=\"stroke:#add8e6; stroke-width:4; stroke-opacity:1; fill:none\" points=\"\n",
       "  940.068,1309.11 1200,1183.26 \n",
       "  \"/>\n",
       "<polyline clip-path=\"url(#clip7002)\" style=\"stroke:#add8e6; stroke-width:4; stroke-opacity:1; fill:none\" points=\"\n",
       "  749.785,1141.31 1200,1183.26 \n",
       "  \"/>\n",
       "<polyline clip-path=\"url(#clip7002)\" style=\"stroke:#00008b; stroke-width:4; stroke-opacity:1; fill:none\" points=\"\n",
       "  1390.28,1351.06 1650.22,1225.21 \n",
       "  \"/>\n",
       "<polyline clip-path=\"url(#clip7002)\" style=\"stroke:#00008b; stroke-width:4; stroke-opacity:1; fill:none\" points=\"\n",
       "  1200,1183.26 1650.22,1225.21 \n",
       "  \"/>\n",
       "<polyline clip-path=\"url(#clip7002)\" style=\"stroke:#add8e6; stroke-width:4; stroke-opacity:1; fill:none\" points=\"\n",
       "  749.785,1141.31 1009.72,1015.45 \n",
       "  \"/>\n",
       "<polyline clip-path=\"url(#clip7002)\" style=\"stroke:#00008b; stroke-width:4; stroke-opacity:1; fill:none\" points=\"\n",
       "  1200,1183.26 1459.93,1057.41 \n",
       "  \"/>\n",
       "<polyline clip-path=\"url(#clip7002)\" style=\"stroke:#00008b; stroke-width:4; stroke-opacity:1; fill:none\" points=\"\n",
       "  1009.72,1015.45 1459.93,1057.41 \n",
       "  \"/>\n",
       "<polyline clip-path=\"url(#clip7002)\" style=\"stroke:#add8e6; stroke-width:4; stroke-opacity:1; fill:none\" points=\"\n",
       "  1650.22,1225.21 1910.15,1099.36 \n",
       "  \"/>\n",
       "<polyline clip-path=\"url(#clip7002)\" style=\"stroke:#add8e6; stroke-width:4; stroke-opacity:1; fill:none\" points=\"\n",
       "  1459.93,1057.41 1910.15,1099.36 \n",
       "  \"/>\n",
       "<polyline clip-path=\"url(#clip7002)\" style=\"stroke:#00008b; stroke-width:4; stroke-opacity:1; fill:none\" points=\"\n",
       "  489.853,1267.16 489.853,883.901 \n",
       "  \"/>\n",
       "<polyline clip-path=\"url(#clip7002)\" style=\"stroke:#add8e6; stroke-width:4; stroke-opacity:1; fill:none\" points=\"\n",
       "  940.068,1309.11 940.068,925.852 \n",
       "  \"/>\n",
       "<polyline clip-path=\"url(#clip7002)\" style=\"stroke:#add8e6; stroke-width:4; stroke-opacity:1; fill:none\" points=\"\n",
       "  489.853,883.901 940.068,925.852 \n",
       "  \"/>\n",
       "<polyline clip-path=\"url(#clip7002)\" style=\"stroke:#00008b; stroke-width:4; stroke-opacity:1; fill:none\" points=\"\n",
       "  1390.28,1351.06 1390.28,967.802 \n",
       "  \"/>\n",
       "<polyline clip-path=\"url(#clip7002)\" style=\"stroke:#00008b; stroke-width:4; stroke-opacity:1; fill:none\" points=\"\n",
       "  940.068,925.852 1390.28,967.802 \n",
       "  \"/>\n",
       "<polyline clip-path=\"url(#clip7002)\" style=\"stroke:#add8e6; stroke-width:4; stroke-opacity:1; fill:none\" points=\"\n",
       "  749.785,1141.31 749.785,758.049 \n",
       "  \"/>\n",
       "<polyline clip-path=\"url(#clip7002)\" style=\"stroke:#add8e6; stroke-width:4; stroke-opacity:1; fill:none\" points=\"\n",
       "  489.853,883.901 749.785,758.049 \n",
       "  \"/>\n",
       "<polyline clip-path=\"url(#clip7002)\" style=\"stroke:#00008b; stroke-width:4; stroke-opacity:1; fill:none\" points=\"\n",
       "  1200,1183.26 1200,800 \n",
       "  \"/>\n",
       "<polyline clip-path=\"url(#clip7002)\" style=\"stroke:#00008b; stroke-width:4; stroke-opacity:1; fill:none\" points=\"\n",
       "  940.068,925.852 1200,800 \n",
       "  \"/>\n",
       "<polyline clip-path=\"url(#clip7002)\" style=\"stroke:#00008b; stroke-width:4; stroke-opacity:1; fill:none\" points=\"\n",
       "  749.785,758.049 1200,800 \n",
       "  \"/>\n",
       "<polyline clip-path=\"url(#clip7002)\" style=\"stroke:#add8e6; stroke-width:4; stroke-opacity:1; fill:none\" points=\"\n",
       "  1650.22,1225.21 1650.22,841.951 \n",
       "  \"/>\n",
       "<polyline clip-path=\"url(#clip7002)\" style=\"stroke:#add8e6; stroke-width:4; stroke-opacity:1; fill:none\" points=\"\n",
       "  1390.28,967.802 1650.22,841.951 \n",
       "  \"/>\n",
       "<polyline clip-path=\"url(#clip7002)\" style=\"stroke:#add8e6; stroke-width:4; stroke-opacity:1; fill:none\" points=\"\n",
       "  1200,800 1650.22,841.951 \n",
       "  \"/>\n",
       "<polyline clip-path=\"url(#clip7002)\" style=\"stroke:#00008b; stroke-width:4; stroke-opacity:1; fill:none\" points=\"\n",
       "  1009.72,1015.45 1009.72,632.198 \n",
       "  \"/>\n",
       "<polyline clip-path=\"url(#clip7002)\" style=\"stroke:#00008b; stroke-width:4; stroke-opacity:1; fill:none\" points=\"\n",
       "  749.785,758.049 1009.72,632.198 \n",
       "  \"/>\n",
       "<polyline clip-path=\"url(#clip7002)\" style=\"stroke:#add8e6; stroke-width:4; stroke-opacity:1; fill:none\" points=\"\n",
       "  1459.93,1057.41 1459.93,674.148 \n",
       "  \"/>\n",
       "<polyline clip-path=\"url(#clip7002)\" style=\"stroke:#add8e6; stroke-width:4; stroke-opacity:1; fill:none\" points=\"\n",
       "  1200,800 1459.93,674.148 \n",
       "  \"/>\n",
       "<polyline clip-path=\"url(#clip7002)\" style=\"stroke:#add8e6; stroke-width:4; stroke-opacity:1; fill:none\" points=\"\n",
       "  1009.72,632.198 1459.93,674.148 \n",
       "  \"/>\n",
       "<polyline clip-path=\"url(#clip7002)\" style=\"stroke:#00008b; stroke-width:4; stroke-opacity:1; fill:none\" points=\"\n",
       "  1910.15,1099.36 1910.15,716.099 \n",
       "  \"/>\n",
       "<polyline clip-path=\"url(#clip7002)\" style=\"stroke:#00008b; stroke-width:4; stroke-opacity:1; fill:none\" points=\"\n",
       "  1650.22,841.951 1910.15,716.099 \n",
       "  \"/>\n",
       "<polyline clip-path=\"url(#clip7002)\" style=\"stroke:#00008b; stroke-width:4; stroke-opacity:1; fill:none\" points=\"\n",
       "  1459.93,674.148 1910.15,716.099 \n",
       "  \"/>\n",
       "<polyline clip-path=\"url(#clip7002)\" style=\"stroke:#add8e6; stroke-width:4; stroke-opacity:1; fill:none\" points=\"\n",
       "  489.853,883.901 489.853,500.644 \n",
       "  \"/>\n",
       "<polyline clip-path=\"url(#clip7002)\" style=\"stroke:#00008b; stroke-width:4; stroke-opacity:1; fill:none\" points=\"\n",
       "  940.068,925.852 940.068,542.594 \n",
       "  \"/>\n",
       "<polyline clip-path=\"url(#clip7002)\" style=\"stroke:#00008b; stroke-width:4; stroke-opacity:1; fill:none\" points=\"\n",
       "  489.853,500.644 940.068,542.594 \n",
       "  \"/>\n",
       "<polyline clip-path=\"url(#clip7002)\" style=\"stroke:#add8e6; stroke-width:4; stroke-opacity:1; fill:none\" points=\"\n",
       "  1390.28,967.802 1390.28,584.545 \n",
       "  \"/>\n",
       "<polyline clip-path=\"url(#clip7002)\" style=\"stroke:#add8e6; stroke-width:4; stroke-opacity:1; fill:none\" points=\"\n",
       "  940.068,542.594 1390.28,584.545 \n",
       "  \"/>\n",
       "<polyline clip-path=\"url(#clip7002)\" style=\"stroke:#00008b; stroke-width:4; stroke-opacity:1; fill:none\" points=\"\n",
       "  749.785,758.049 749.785,374.792 \n",
       "  \"/>\n",
       "<polyline clip-path=\"url(#clip7002)\" style=\"stroke:#00008b; stroke-width:4; stroke-opacity:1; fill:none\" points=\"\n",
       "  489.853,500.644 749.785,374.792 \n",
       "  \"/>\n",
       "<polyline clip-path=\"url(#clip7002)\" style=\"stroke:#add8e6; stroke-width:4; stroke-opacity:1; fill:none\" points=\"\n",
       "  1200,800 1200,416.743 \n",
       "  \"/>\n",
       "<polyline clip-path=\"url(#clip7002)\" style=\"stroke:#add8e6; stroke-width:4; stroke-opacity:1; fill:none\" points=\"\n",
       "  940.068,542.594 1200,416.743 \n",
       "  \"/>\n",
       "<polyline clip-path=\"url(#clip7002)\" style=\"stroke:#add8e6; stroke-width:4; stroke-opacity:1; fill:none\" points=\"\n",
       "  749.785,374.792 1200,416.743 \n",
       "  \"/>\n",
       "<polyline clip-path=\"url(#clip7002)\" style=\"stroke:#00008b; stroke-width:4; stroke-opacity:1; fill:none\" points=\"\n",
       "  1650.22,841.951 1650.22,458.693 \n",
       "  \"/>\n",
       "<polyline clip-path=\"url(#clip7002)\" style=\"stroke:#00008b; stroke-width:4; stroke-opacity:1; fill:none\" points=\"\n",
       "  1390.28,584.545 1650.22,458.693 \n",
       "  \"/>\n",
       "<polyline clip-path=\"url(#clip7002)\" style=\"stroke:#00008b; stroke-width:4; stroke-opacity:1; fill:none\" points=\"\n",
       "  1200,416.743 1650.22,458.693 \n",
       "  \"/>\n",
       "<polyline clip-path=\"url(#clip7002)\" style=\"stroke:#add8e6; stroke-width:4; stroke-opacity:1; fill:none\" points=\"\n",
       "  1009.72,632.198 1009.72,248.941 \n",
       "  \"/>\n",
       "<polyline clip-path=\"url(#clip7002)\" style=\"stroke:#add8e6; stroke-width:4; stroke-opacity:1; fill:none\" points=\"\n",
       "  749.785,374.792 1009.72,248.941 \n",
       "  \"/>\n",
       "<polyline clip-path=\"url(#clip7002)\" style=\"stroke:#00008b; stroke-width:4; stroke-opacity:1; fill:none\" points=\"\n",
       "  1459.93,674.148 1459.93,290.891 \n",
       "  \"/>\n",
       "<polyline clip-path=\"url(#clip7002)\" style=\"stroke:#00008b; stroke-width:4; stroke-opacity:1; fill:none\" points=\"\n",
       "  1200,416.743 1459.93,290.891 \n",
       "  \"/>\n",
       "<polyline clip-path=\"url(#clip7002)\" style=\"stroke:#00008b; stroke-width:4; stroke-opacity:1; fill:none\" points=\"\n",
       "  1009.72,248.941 1459.93,290.891 \n",
       "  \"/>\n",
       "<polyline clip-path=\"url(#clip7002)\" style=\"stroke:#add8e6; stroke-width:4; stroke-opacity:1; fill:none\" points=\"\n",
       "  1910.15,716.099 1910.15,332.842 \n",
       "  \"/>\n",
       "<polyline clip-path=\"url(#clip7002)\" style=\"stroke:#add8e6; stroke-width:4; stroke-opacity:1; fill:none\" points=\"\n",
       "  1650.22,458.693 1910.15,332.842 \n",
       "  \"/>\n",
       "<polyline clip-path=\"url(#clip7002)\" style=\"stroke:#add8e6; stroke-width:4; stroke-opacity:1; fill:none\" points=\"\n",
       "  1459.93,290.891 1910.15,332.842 \n",
       "  \"/>\n",
       "</svg>\n"
      ]
     },
     "metadata": {},
     "output_type": "display_data"
    }
   ],
   "source": [
    "p = plot_graph_weighted(A,x,y,z);"
   ]
  },
  {
   "cell_type": "code",
   "execution_count": 66,
   "metadata": {
    "collapsed": false
   },
   "outputs": [
    {
     "data": {
      "text/plain": [
       "indexToLinear (generic function with 1 method)"
      ]
     },
     "execution_count": 66,
     "metadata": {},
     "output_type": "execute_result"
    }
   ],
   "source": [
    "function indexToLinear(x,y,z,xlen,ylen)\n",
    "    return x+(y-1)*xlen+(z-1)*xlen*ylen\n",
    "end\n"
   ]
  },
  {
   "cell_type": "code",
   "execution_count": 22,
   "metadata": {
    "collapsed": false
   },
   "outputs": [],
   "source": [
    "#=\n",
    "zsidesize = s1*s2\n",
    "xsidesize = s2*s3\n",
    "ysidesize = s1*s3\n",
    "zside1 = 1:zbot # bot \n",
    "zside2 = n-zbot+1:n # top\n",
    "\n",
    "zside1b = Array{Int64,undef,zsidesize}\n",
    "for (i,(x,y)) in Base.Iterators.enumerate(Base.product(1:s1,1:s2))\n",
    "    zside1b[i] = indexToLinear(x,y,1,s1,s2)\n",
    "end\n",
    "\n",
    "left = s1+1:s1:n-s1\n",
    "right = 2*s1:s1:n-1\n",
    "front = \n",
    "back = \n",
    "bndry = [bot; top; left; right]\n",
    "@time int = setdiff(1:n,bndry) # the interior variables (= all - boundary )\n",
    "\n",
    "@time M = L[int,int]\n",
    "# remove the rows and colums corresponding to the boundary of the grid\n",
    "# -- this is because we essentially want to force boundary voltages to be zero\n",
    "\n",
    "ni = length(int) #this is the remaining variables\n",
    "=#"
   ]
  },
  {
   "cell_type": "code",
   "execution_count": 23,
   "metadata": {
    "collapsed": false
   },
   "outputs": [
    {
     "data": {
      "text/plain": [
       "Base.Iterators.Enumerate{Base.Iterators.ProductIterator{Tuple{UnitRange{Int64},UnitRange{Int64}}}}(Base.Iterators.ProductIterator{Tuple{UnitRange{Int64},UnitRange{Int64}}}((1:3, 1:3)))"
      ]
     },
     "execution_count": 23,
     "metadata": {},
     "output_type": "execute_result"
    }
   ],
   "source": [
    "Base.Iterators.enumerate(Base.product(1:s1,1:s2))"
   ]
  },
  {
   "cell_type": "code",
   "execution_count": 67,
   "metadata": {
    "collapsed": false
   },
   "outputs": [
    {
     "data": {
      "text/plain": [
       "9"
      ]
     },
     "execution_count": 67,
     "metadata": {},
     "output_type": "execute_result"
    }
   ],
   "source": [
    "n = s1*s2*s3\n",
    "zsidesize = s1*s2\n",
    "xsidesize = s2*s3\n",
    "ysidesize = s1*s3"
   ]
  },
  {
   "cell_type": "code",
   "execution_count": 131,
   "metadata": {
    "collapsed": false
   },
   "outputs": [
    {
     "name": "stdout",
     "output_type": "stream",
     "text": [
      "  0.000032 seconds (27 allocations: 2.898 KiB)\n"
     ]
    },
    {
     "data": {
      "text/plain": [
       "1-element Array{Int64,1}:\n",
       " 14"
      ]
     },
     "execution_count": 131,
     "metadata": {},
     "output_type": "execute_result"
    }
   ],
   "source": [
    "n = s1*s2*s3\n",
    "zsidesize = s1*s2\n",
    "xsidesize = s2*s3\n",
    "ysidesize = s1*s3\n",
    "zside1b = 1:zsidesize # bot \n",
    "zside2b = n-zsidesize+1:n # top\n",
    "\n",
    "zside1 = Array{Int64}(undef,zsidesize)\n",
    "for (i,(x,y)) in Base.Iterators.enumerate(Base.product(1:s1,1:s2))\n",
    "    zside1[i] = indexToLinear(x,y,1,s1,s2)\n",
    "end\n",
    "\n",
    "zside2 = Array{Int64}(undef,zsidesize)\n",
    "for (i,(x,y)) in Base.Iterators.enumerate(Base.product(1:s1,1:s2))\n",
    "    zside2[i] = indexToLinear(x,y,s3,s1,s2)\n",
    "end\n",
    "\n",
    "xside1 = Array{Int64}(undef,xsidesize)\n",
    "for (i,(y,z)) in Base.Iterators.enumerate(Base.product(1:s2,1:s3))\n",
    "#     @show (i,(y,z))\n",
    "#     if (y == 2 && z == 2)\n",
    "#         @show z == 2\n",
    "#         @show indexToLinear(1,y,z,s1,s2)\n",
    "#     end\n",
    "    xside1[i] = indexToLinear(1,y,z,s1,s2)\n",
    "end\n",
    "\n",
    "xside2 = Array{Int64}(undef,xsidesize)\n",
    "for (i,(y,z)) in Base.Iterators.enumerate(Base.product(1:s2,1:s3))\n",
    "    xside2[i] = indexToLinear(s1,y,z,s1,s2)\n",
    "end\n",
    "\n",
    "yside1 = Array{Int64}(undef,ysidesize)\n",
    "for (i,(x,z)) in Base.Iterators.enumerate(Base.product(1:s1,1:s3))\n",
    "    yside1[i] = indexToLinear(x,1,z,s1,s2)\n",
    "end\n",
    "\n",
    "yside2 = Array{Int64}(undef,ysidesize)\n",
    "for (i,(x,z)) in Base.Iterators.enumerate(Base.product(1:s1,1:s3))\n",
    "    yside2[i] = indexToLinear(x,s2,z,s1,s2)\n",
    "end\n",
    "\n",
    "bndry = [zside1; zside2; xside1; xside2; yside1; yside2];\n",
    "@time int = setdiff(1:n,bndry)"
   ]
  },
  {
   "cell_type": "code",
   "execution_count": 136,
   "metadata": {
    "collapsed": false
   },
   "outputs": [
    {
     "data": {
      "text/plain": [
       "0-element Array{Int64,1}"
      ]
     },
     "execution_count": 136,
     "metadata": {},
     "output_type": "execute_result"
    }
   ],
   "source": [
    "setdiff(zside2,zside2b)"
   ]
  },
  {
   "cell_type": "code",
   "execution_count": 137,
   "metadata": {
    "collapsed": false
   },
   "outputs": [
    {
     "data": {
      "text/plain": [
       "0-element Array{Int64,1}"
      ]
     },
     "execution_count": 137,
     "metadata": {},
     "output_type": "execute_result"
    }
   ],
   "source": [
    "setdiff(zside2b,zside2)"
   ]
  },
  {
   "cell_type": "code",
   "execution_count": 138,
   "metadata": {
    "collapsed": false
   },
   "outputs": [
    {
     "name": "stdout",
     "output_type": "stream",
     "text": [
      "  0.000016 seconds (30 allocations: 8.641 KiB)\n"
     ]
    }
   ],
   "source": [
    "s = 3\n",
    "s1 = s\n",
    "s2 = s\n",
    "s3 = s\n",
    "b1,b2,b3 = 3,3,3\n",
    "w = 1e6\n",
    "@time A = ggrid3_checkered(s1,s2,s3,b1,b2,b3,w);"
   ]
  },
  {
   "cell_type": "markdown",
   "metadata": {},
   "source": [
    "# again"
   ]
  },
  {
   "cell_type": "code",
   "execution_count": 144,
   "metadata": {
    "collapsed": false
   },
   "outputs": [
    {
     "name": "stdout",
     "output_type": "stream",
     "text": [
      "  0.000032 seconds (30 allocations: 19.203 KiB)\n"
     ]
    }
   ],
   "source": [
    "s = 4\n",
    "s1 = s\n",
    "s2 = s\n",
    "s3 = s\n",
    "b1,b2,b3 = 3,3,3\n",
    "w = 1e6\n",
    "@time A = ggrid3_checkered(s1,s2,s3,b1,b2,b3,w);"
   ]
  },
  {
   "cell_type": "code",
   "execution_count": 145,
   "metadata": {
    "collapsed": true
   },
   "outputs": [],
   "source": [
    "x,y,z = ggrid3coords(s1,s2,s3);"
   ]
  },
  {
   "cell_type": "code",
   "execution_count": 147,
   "metadata": {
    "collapsed": false
   },
   "outputs": [
    {
     "name": "stdout",
     "output_type": "stream",
     "text": [
      "  0.000027 seconds (27 allocations: 4.414 KiB)\n"
     ]
    }
   ],
   "source": [
    "n = s1*s2*s3\n",
    "zsidesize = s1*s2\n",
    "xsidesize = s2*s3\n",
    "ysidesize = s1*s3\n",
    "zside1b = 1:zsidesize # bot \n",
    "zside2b = n-zsidesize+1:n # top\n",
    "\n",
    "zside1 = Array{Int64}(undef,zsidesize)\n",
    "for (i,(x,y)) in Base.Iterators.enumerate(Base.product(1:s1,1:s2))\n",
    "    zside1[i] = indexToLinear(x,y,1,s1,s2)\n",
    "end\n",
    "\n",
    "zside2 = Array{Int64}(undef,zsidesize)\n",
    "for (i,(x,y)) in Base.Iterators.enumerate(Base.product(1:s1,1:s2))\n",
    "    zside2[i] = indexToLinear(x,y,s3,s1,s2)\n",
    "end\n",
    "\n",
    "xside1 = Array{Int64}(undef,xsidesize)\n",
    "for (i,(y,z)) in Base.Iterators.enumerate(Base.product(1:s2,1:s3))\n",
    "#     @show (i,(y,z))\n",
    "#     if (y == 2 && z == 2)\n",
    "#         @show z == 2\n",
    "#         @show indexToLinear(1,y,z,s1,s2)\n",
    "#     end\n",
    "    xside1[i] = indexToLinear(1,y,z,s1,s2)\n",
    "end\n",
    "\n",
    "xside2 = Array{Int64}(undef,xsidesize)\n",
    "for (i,(y,z)) in Base.Iterators.enumerate(Base.product(1:s2,1:s3))\n",
    "    xside2[i] = indexToLinear(s1,y,z,s1,s2)\n",
    "end\n",
    "\n",
    "yside1 = Array{Int64}(undef,ysidesize)\n",
    "for (i,(x,z)) in Base.Iterators.enumerate(Base.product(1:s1,1:s3))\n",
    "    yside1[i] = indexToLinear(x,1,z,s1,s2)\n",
    "end\n",
    "\n",
    "yside2 = Array{Int64}(undef,ysidesize)\n",
    "for (i,(x,z)) in Base.Iterators.enumerate(Base.product(1:s1,1:s3))\n",
    "    yside2[i] = indexToLinear(x,s2,z,s1,s2)\n",
    "end\n",
    "\n",
    "bndry = [zside1; zside2; xside1; xside2; yside1; yside2];\n",
    "@time int = setdiff(1:n,bndry)\n",
    "\n",
    "ni = length(int) #this is the remaining variables\n",
    "@assert(ni == (s-2)^3)"
   ]
  },
  {
   "cell_type": "code",
   "execution_count": 148,
   "metadata": {
    "collapsed": false
   },
   "outputs": [
    {
     "name": "stdout",
     "output_type": "stream",
     "text": [
      "  0.177127 seconds (175.64 k allocations: 8.903 MiB, 24.02% gc time)\n",
      "  0.320224 seconds (620.39 k allocations: 30.024 MiB, 3.87% gc time)\n"
     ]
    },
    {
     "data": {
      "text/plain": [
       "8×8 SparseMatrixCSC{Float64,Int64} with 32 stored entries:\n",
       "  [1, 1]  =  3.0e6\n",
       "  [2, 1]  =  -1.0\n",
       "  [3, 1]  =  -1.0\n",
       "  [5, 1]  =  -1.0\n",
       "  [1, 2]  =  -1.0\n",
       "  [2, 2]  =  3.0e6\n",
       "  [4, 2]  =  -1.0e6\n",
       "  [6, 2]  =  -1.0e6\n",
       "  [1, 3]  =  -1.0\n",
       "  [3, 3]  =  3.0e6\n",
       "  [4, 3]  =  -1.0e6\n",
       "  [7, 3]  =  -1.0e6\n",
       "  ⋮\n",
       "  [2, 6]  =  -1.0e6\n",
       "  [5, 6]  =  -1.0e6\n",
       "  [6, 6]  =  3.0e6\n",
       "  [8, 6]  =  -1.0\n",
       "  [3, 7]  =  -1.0e6\n",
       "  [5, 7]  =  -1.0e6\n",
       "  [7, 7]  =  3.0e6\n",
       "  [8, 7]  =  -1.0\n",
       "  [4, 8]  =  -1.0\n",
       "  [6, 8]  =  -1.0\n",
       "  [7, 8]  =  -1.0\n",
       "  [8, 8]  =  3.0e6"
      ]
     },
     "execution_count": 148,
     "metadata": {},
     "output_type": "execute_result"
    }
   ],
   "source": [
    "@time L = lap(A) # create the Laplacian\n",
    "@time M = L[int,int]\n",
    "# remove the rows and colums corresponding to the boundary of the grid\n",
    "# -- this is because we essentially want to force boundary voltages to be zero\n",
    "\n"
   ]
  },
  {
   "cell_type": "markdown",
   "metadata": {},
   "source": [
    "## again again"
   ]
  },
  {
   "cell_type": "code",
   "execution_count": 150,
   "metadata": {
    "collapsed": false
   },
   "outputs": [
    {
     "name": "stdout",
     "output_type": "stream",
     "text": [
      "  0.000049 seconds (30 allocations: 105.969 KiB)\n",
      "  0.000042 seconds (27 allocations: 25.430 KiB)\n",
      "  0.000026 seconds (16 allocations: 50.281 KiB)\n",
      "  0.000037 seconds (9 allocations: 15.703 KiB)\n"
     ]
    },
    {
     "data": {
      "text/plain": [
       "125×125 SparseMatrixCSC{Float64,Int64} with 725 stored entries:\n",
       "  [1  ,   1]  =  6.0e6\n",
       "  [2  ,   1]  =  -1.0e6\n",
       "  [6  ,   1]  =  -1.0e6\n",
       "  [26 ,   1]  =  -1.0e6\n",
       "  [1  ,   2]  =  -1.0e6\n",
       "  [2  ,   2]  =  1.00001e6\n",
       "  [3  ,   2]  =  -1.0\n",
       "  [7  ,   2]  =  -1.0\n",
       "  [27 ,   2]  =  -1.0\n",
       "  [2  ,   3]  =  -1.0\n",
       "  [3  ,   3]  =  6.0\n",
       "  [4  ,   3]  =  -1.0\n",
       "  ⋮\n",
       "  [122, 123]  =  -1.0\n",
       "  [123, 123]  =  6.0\n",
       "  [124, 123]  =  -1.0\n",
       "  [99 , 124]  =  -1.0e6\n",
       "  [119, 124]  =  -1.0e6\n",
       "  [123, 124]  =  -1.0\n",
       "  [124, 124]  =  5.0e6\n",
       "  [125, 124]  =  -1.0e6\n",
       "  [100, 125]  =  -1.0e6\n",
       "  [120, 125]  =  -1.0e6\n",
       "  [124, 125]  =  -1.0e6\n",
       "  [125, 125]  =  6.0e6"
      ]
     },
     "execution_count": 150,
     "metadata": {},
     "output_type": "execute_result"
    }
   ],
   "source": [
    "s = 7\n",
    "s1 = s\n",
    "s2 = s\n",
    "s3 = s\n",
    "b1,b2,b3 = 3,3,3\n",
    "w = 1e6\n",
    "@time A = ggrid3_checkered(s1,s2,s3,b1,b2,b3,w);\n",
    "x,y,z = ggrid3coords(s1,s2,s3);\n",
    "\n",
    "n = s1*s2*s3\n",
    "zsidesize = s1*s2\n",
    "xsidesize = s2*s3\n",
    "ysidesize = s1*s3\n",
    "zside1b = 1:zsidesize # bot \n",
    "zside2b = n-zsidesize+1:n # top\n",
    "\n",
    "zside1 = Array{Int64}(undef,zsidesize)\n",
    "for (i,(x,y)) in Base.Iterators.enumerate(Base.product(1:s1,1:s2))\n",
    "    zside1[i] = indexToLinear(x,y,1,s1,s2)\n",
    "end\n",
    "\n",
    "zside2 = Array{Int64}(undef,zsidesize)\n",
    "for (i,(x,y)) in Base.Iterators.enumerate(Base.product(1:s1,1:s2))\n",
    "    zside2[i] = indexToLinear(x,y,s3,s1,s2)\n",
    "end\n",
    "\n",
    "xside1 = Array{Int64}(undef,xsidesize)\n",
    "for (i,(y,z)) in Base.Iterators.enumerate(Base.product(1:s2,1:s3))\n",
    "#     @show (i,(y,z))\n",
    "#     if (y == 2 && z == 2)\n",
    "#         @show z == 2\n",
    "#         @show indexToLinear(1,y,z,s1,s2)\n",
    "#     end\n",
    "    xside1[i] = indexToLinear(1,y,z,s1,s2)\n",
    "end\n",
    "\n",
    "xside2 = Array{Int64}(undef,xsidesize)\n",
    "for (i,(y,z)) in Base.Iterators.enumerate(Base.product(1:s2,1:s3))\n",
    "    xside2[i] = indexToLinear(s1,y,z,s1,s2)\n",
    "end\n",
    "\n",
    "yside1 = Array{Int64}(undef,ysidesize)\n",
    "for (i,(x,z)) in Base.Iterators.enumerate(Base.product(1:s1,1:s3))\n",
    "    yside1[i] = indexToLinear(x,1,z,s1,s2)\n",
    "end\n",
    "\n",
    "yside2 = Array{Int64}(undef,ysidesize)\n",
    "for (i,(x,z)) in Base.Iterators.enumerate(Base.product(1:s1,1:s3))\n",
    "    yside2[i] = indexToLinear(x,s2,z,s1,s2)\n",
    "end\n",
    "\n",
    "bndry = [zside1; zside2; xside1; xside2; yside1; yside2];\n",
    "@time int = setdiff(1:n,bndry)\n",
    "\n",
    "ni = length(int) #this is the remaining variables\n",
    "@assert(ni == (s-2)^3)\n",
    "\n",
    "@time L = lap(A) # create the Laplacian\n",
    "@time M = L[int,int]\n",
    "# remove the rows and colums corresponding to the boundary of the grid\n",
    "# -- this is because we essentially want to force boundary voltages to be zero\n",
    "\n"
   ]
  },
  {
   "cell_type": "code",
   "execution_count": null,
   "metadata": {
    "collapsed": true
   },
   "outputs": [],
   "source": []
  }
 ],
 "metadata": {
  "kernelspec": {
   "display_name": "Julia 1.1.0",
   "language": "julia",
   "name": "julia-1.1"
  },
  "language_info": {
   "file_extension": ".jl",
   "mimetype": "application/julia",
   "name": "julia",
   "version": "1.1.0"
  }
 },
 "nbformat": 4,
 "nbformat_minor": 2
}
