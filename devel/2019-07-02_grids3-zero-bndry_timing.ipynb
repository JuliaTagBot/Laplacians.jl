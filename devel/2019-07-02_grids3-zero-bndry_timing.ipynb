{
 "cells": [
  {
   "cell_type": "code",
   "execution_count": 1,
   "metadata": {
    "collapsed": false
   },
   "outputs": [
    {
     "name": "stdout",
     "output_type": "stream",
     "text": [
      "Pkg.pathof(Laplacians) = \"/Users/rjkyng/Dropbox/Repos/Laplacians.jl/src/Laplacians.jl\"\n"
     ]
    }
   ],
   "source": [
    "using Revise\n",
    "using Laplacians\n",
    "using Pkg\n",
    "@show Pkg.pathof(Laplacians)\n",
    "using SparseArrays\n",
    "using LinearAlgebra"
   ]
  },
  {
   "cell_type": "code",
   "execution_count": 2,
   "metadata": {
    "collapsed": false
   },
   "outputs": [
    {
     "data": {
      "text/plain": [
       "indexToLinear (generic function with 1 method)"
      ]
     },
     "execution_count": 2,
     "metadata": {},
     "output_type": "execute_result"
    }
   ],
   "source": [
    "function indexToLinear(x,y,z,xlen,ylen)\n",
    "    return x+(y-1)*xlen+(z-1)*xlen*ylen\n",
    "end"
   ]
  },
  {
   "cell_type": "code",
   "execution_count": 12,
   "metadata": {
    "collapsed": false
   },
   "outputs": [
    {
     "name": "stdout",
     "output_type": "stream",
     "text": [
      "  0.552202 seconds (48 allocations: 353.147 MiB, 42.09% gc time)\n",
      "  0.215104 seconds (26 allocations: 26.643 MiB, 51.96% gc time)\n",
      "  0.117319 seconds (22 allocations: 160.976 MiB, 8.18% gc time)\n",
      "  0.193535 seconds (13 allocations: 121.622 MiB, 42.70% gc time)\n"
     ]
    }
   ],
   "source": [
    "s = 102\n",
    "\n",
    "s1 = s\n",
    "s2 = s\n",
    "s3 = s\n",
    "b1,b2,b3 = 3,3,3\n",
    "w = 1e7\n",
    "@time A = ggrid3_checkered(s1,s2,s3,b1,b2,b3,w);\n",
    "x,y,z = ggrid3coords(s1,s2,s3);\n",
    "\n",
    "n = s1*s2*s3\n",
    "zsidesize = s1*s2\n",
    "xsidesize = s2*s3\n",
    "ysidesize = s1*s3\n",
    "zside1b = 1:zsidesize # bot \n",
    "zside2b = n-zsidesize+1:n # top\n",
    "\n",
    "zside1 = Array{Int64}(undef,zsidesize)\n",
    "for (i,(x,y)) in Base.Iterators.enumerate(Base.product(1:s1,1:s2))\n",
    "    zside1[i] = indexToLinear(x,y,1,s1,s2)\n",
    "end\n",
    "\n",
    "zside2 = Array{Int64}(undef,zsidesize)\n",
    "for (i,(x,y)) in Base.Iterators.enumerate(Base.product(1:s1,1:s2))\n",
    "    zside2[i] = indexToLinear(x,y,s3,s1,s2)\n",
    "end\n",
    "\n",
    "xside1 = Array{Int64}(undef,xsidesize)\n",
    "for (i,(y,z)) in Base.Iterators.enumerate(Base.product(1:s2,1:s3))\n",
    "#     @show (i,(y,z))\n",
    "#     if (y == 2 && z == 2)\n",
    "#         @show z == 2\n",
    "#         @show indexToLinear(1,y,z,s1,s2)\n",
    "#     end\n",
    "    xside1[i] = indexToLinear(1,y,z,s1,s2)\n",
    "end\n",
    "\n",
    "xside2 = Array{Int64}(undef,xsidesize)\n",
    "for (i,(y,z)) in Base.Iterators.enumerate(Base.product(1:s2,1:s3))\n",
    "    xside2[i] = indexToLinear(s1,y,z,s1,s2)\n",
    "end\n",
    "\n",
    "yside1 = Array{Int64}(undef,ysidesize)\n",
    "for (i,(x,z)) in Base.Iterators.enumerate(Base.product(1:s1,1:s3))\n",
    "    yside1[i] = indexToLinear(x,1,z,s1,s2)\n",
    "end\n",
    "\n",
    "yside2 = Array{Int64}(undef,ysidesize)\n",
    "for (i,(x,z)) in Base.Iterators.enumerate(Base.product(1:s1,1:s3))\n",
    "    yside2[i] = indexToLinear(x,s2,z,s1,s2)\n",
    "end\n",
    "\n",
    "bndry = [zside1; zside2; xside1; xside2; yside1; yside2];\n",
    "@time int = setdiff(1:n,bndry)\n",
    "\n",
    "ni = length(int) #this is the remaining variables\n",
    "@assert(ni == (s-2)^3)\n",
    "\n",
    "@time L = lap(A) # create the Laplacian\n",
    "@time M = L[int,int];\n",
    "# remove the rows and colums corresponding to the boundary of the grid\n",
    "# -- this is because we essentially want to force boundary voltages to be zero\n",
    "\n"
   ]
  },
  {
   "cell_type": "code",
   "execution_count": 13,
   "metadata": {
    "collapsed": true
   },
   "outputs": [],
   "source": [
    "b = randn(ni);"
   ]
  },
  {
   "cell_type": "code",
   "execution_count": 17,
   "metadata": {
    "collapsed": false
   },
   "outputs": [
    {
     "name": "stdout",
     "output_type": "stream",
     "text": [
      "  7.454572 seconds (7.94 M allocations: 1.884 GiB, 28.04% gc time)\n",
      "  7.131198 seconds (260 allocations: 801.102 MiB, 6.40% gc time)\n"
     ]
    },
    {
     "data": {
      "text/plain": [
       "2.7279549749195836e-8"
      ]
     },
     "execution_count": 17,
     "metadata": {},
     "output_type": "execute_result"
    }
   ],
   "source": [
    "@time sol = approxchol_sddm(M);\n",
    "@time x = sol(b,tol=1e-8)\n",
    "norm(M*x-b)/norm(b)"
   ]
  },
  {
   "cell_type": "markdown",
   "metadata": {},
   "source": [
    "# more blocks"
   ]
  },
  {
   "cell_type": "code",
   "execution_count": 19,
   "metadata": {
    "collapsed": false
   },
   "outputs": [
    {
     "name": "stdout",
     "output_type": "stream",
     "text": [
      "  0.594877 seconds (48 allocations: 353.147 MiB, 42.61% gc time)\n",
      "  0.288612 seconds (26 allocations: 26.643 MiB, 51.72% gc time)\n",
      "  0.159417 seconds (22 allocations: 160.976 MiB, 7.63% gc time)\n",
      "  0.258484 seconds (13 allocations: 121.622 MiB, 38.18% gc time)\n"
     ]
    }
   ],
   "source": [
    "s = 102\n",
    "\n",
    "s1 = s\n",
    "s2 = s\n",
    "s3 = s\n",
    "b1,b2,b3 = 10,10,10\n",
    "w = 1e7\n",
    "@time A = ggrid3_checkered(s1,s2,s3,b1,b2,b3,w);\n",
    "x,y,z = ggrid3coords(s1,s2,s3);\n",
    "\n",
    "n = s1*s2*s3\n",
    "zsidesize = s1*s2\n",
    "xsidesize = s2*s3\n",
    "ysidesize = s1*s3\n",
    "zside1b = 1:zsidesize # bot \n",
    "zside2b = n-zsidesize+1:n # top\n",
    "\n",
    "zside1 = Array{Int64}(undef,zsidesize)\n",
    "for (i,(x,y)) in Base.Iterators.enumerate(Base.product(1:s1,1:s2))\n",
    "    zside1[i] = indexToLinear(x,y,1,s1,s2)\n",
    "end\n",
    "\n",
    "zside2 = Array{Int64}(undef,zsidesize)\n",
    "for (i,(x,y)) in Base.Iterators.enumerate(Base.product(1:s1,1:s2))\n",
    "    zside2[i] = indexToLinear(x,y,s3,s1,s2)\n",
    "end\n",
    "\n",
    "xside1 = Array{Int64}(undef,xsidesize)\n",
    "for (i,(y,z)) in Base.Iterators.enumerate(Base.product(1:s2,1:s3))\n",
    "#     @show (i,(y,z))\n",
    "#     if (y == 2 && z == 2)\n",
    "#         @show z == 2\n",
    "#         @show indexToLinear(1,y,z,s1,s2)\n",
    "#     end\n",
    "    xside1[i] = indexToLinear(1,y,z,s1,s2)\n",
    "end\n",
    "\n",
    "xside2 = Array{Int64}(undef,xsidesize)\n",
    "for (i,(y,z)) in Base.Iterators.enumerate(Base.product(1:s2,1:s3))\n",
    "    xside2[i] = indexToLinear(s1,y,z,s1,s2)\n",
    "end\n",
    "\n",
    "yside1 = Array{Int64}(undef,ysidesize)\n",
    "for (i,(x,z)) in Base.Iterators.enumerate(Base.product(1:s1,1:s3))\n",
    "    yside1[i] = indexToLinear(x,1,z,s1,s2)\n",
    "end\n",
    "\n",
    "yside2 = Array{Int64}(undef,ysidesize)\n",
    "for (i,(x,z)) in Base.Iterators.enumerate(Base.product(1:s1,1:s3))\n",
    "    yside2[i] = indexToLinear(x,s2,z,s1,s2)\n",
    "end\n",
    "\n",
    "bndry = [zside1; zside2; xside1; xside2; yside1; yside2];\n",
    "@time int = setdiff(1:n,bndry)\n",
    "\n",
    "ni = length(int) #this is the remaining variables\n",
    "@assert(ni == (s-2)^3)\n",
    "\n",
    "@time L = lap(A) # create the Laplacian\n",
    "@time M = L[int,int];\n",
    "# remove the rows and colums corresponding to the boundary of the grid\n",
    "# -- this is because we essentially want to force boundary voltages to be zero\n"
   ]
  },
  {
   "cell_type": "code",
   "execution_count": 20,
   "metadata": {
    "collapsed": true
   },
   "outputs": [],
   "source": [
    "\n",
    "b = randn(ni);"
   ]
  },
  {
   "cell_type": "code",
   "execution_count": 21,
   "metadata": {
    "collapsed": false
   },
   "outputs": [
    {
     "name": "stdout",
     "output_type": "stream",
     "text": [
      "  6.541223 seconds (7.94 M allocations: 1.884 GiB, 33.61% gc time)\n",
      "  7.022960 seconds (296 allocations: 938.434 MiB, 7.05% gc time)\n"
     ]
    },
    {
     "data": {
      "text/plain": [
       "2.9982095652677284e-8"
      ]
     },
     "execution_count": 21,
     "metadata": {},
     "output_type": "execute_result"
    }
   ],
   "source": [
    "@time sol = approxchol_sddm(M);\n",
    "@time x = sol(b,tol=1e-8)\n",
    "norm(M*x-b)/norm(b)"
   ]
  },
  {
   "cell_type": "markdown",
   "metadata": {},
   "source": [
    "# even more blocks"
   ]
  },
  {
   "cell_type": "code",
   "execution_count": 22,
   "metadata": {
    "collapsed": false
   },
   "outputs": [
    {
     "name": "stdout",
     "output_type": "stream",
     "text": [
      "  0.519243 seconds (48 allocations: 353.147 MiB, 46.21% gc time)\n",
      "  0.358532 seconds (26 allocations: 26.643 MiB, 60.86% gc time)\n",
      "  0.118090 seconds (22 allocations: 160.976 MiB, 11.85% gc time)\n",
      "  0.251864 seconds (13 allocations: 121.622 MiB, 40.07% gc time)\n"
     ]
    }
   ],
   "source": [
    "s = 102\n",
    "\n",
    "s1 = s\n",
    "s2 = s\n",
    "s3 = s\n",
    "b1,b2,b3 = 25,25,25\n",
    "w = 1e7\n",
    "@time A = ggrid3_checkered(s1,s2,s3,b1,b2,b3,w);\n",
    "x,y,z = ggrid3coords(s1,s2,s3);\n",
    "\n",
    "n = s1*s2*s3\n",
    "zsidesize = s1*s2\n",
    "xsidesize = s2*s3\n",
    "ysidesize = s1*s3\n",
    "zside1b = 1:zsidesize # bot \n",
    "zside2b = n-zsidesize+1:n # top\n",
    "\n",
    "zside1 = Array{Int64}(undef,zsidesize)\n",
    "for (i,(x,y)) in Base.Iterators.enumerate(Base.product(1:s1,1:s2))\n",
    "    zside1[i] = indexToLinear(x,y,1,s1,s2)\n",
    "end\n",
    "\n",
    "zside2 = Array{Int64}(undef,zsidesize)\n",
    "for (i,(x,y)) in Base.Iterators.enumerate(Base.product(1:s1,1:s2))\n",
    "    zside2[i] = indexToLinear(x,y,s3,s1,s2)\n",
    "end\n",
    "\n",
    "xside1 = Array{Int64}(undef,xsidesize)\n",
    "for (i,(y,z)) in Base.Iterators.enumerate(Base.product(1:s2,1:s3))\n",
    "#     @show (i,(y,z))\n",
    "#     if (y == 2 && z == 2)\n",
    "#         @show z == 2\n",
    "#         @show indexToLinear(1,y,z,s1,s2)\n",
    "#     end\n",
    "    xside1[i] = indexToLinear(1,y,z,s1,s2)\n",
    "end\n",
    "\n",
    "xside2 = Array{Int64}(undef,xsidesize)\n",
    "for (i,(y,z)) in Base.Iterators.enumerate(Base.product(1:s2,1:s3))\n",
    "    xside2[i] = indexToLinear(s1,y,z,s1,s2)\n",
    "end\n",
    "\n",
    "yside1 = Array{Int64}(undef,ysidesize)\n",
    "for (i,(x,z)) in Base.Iterators.enumerate(Base.product(1:s1,1:s3))\n",
    "    yside1[i] = indexToLinear(x,1,z,s1,s2)\n",
    "end\n",
    "\n",
    "yside2 = Array{Int64}(undef,ysidesize)\n",
    "for (i,(x,z)) in Base.Iterators.enumerate(Base.product(1:s1,1:s3))\n",
    "    yside2[i] = indexToLinear(x,s2,z,s1,s2)\n",
    "end\n",
    "\n",
    "bndry = [zside1; zside2; xside1; xside2; yside1; yside2];\n",
    "@time int = setdiff(1:n,bndry)\n",
    "\n",
    "ni = length(int) #this is the remaining variables\n",
    "@assert(ni == (s-2)^3)\n",
    "\n",
    "@time L = lap(A) # create the Laplacian\n",
    "@time M = L[int,int];\n",
    "# remove the rows and colums corresponding to the boundary of the grid\n",
    "# -- this is because we essentially want to force boundary voltages to be zero\n"
   ]
  },
  {
   "cell_type": "code",
   "execution_count": 24,
   "metadata": {
    "collapsed": true
   },
   "outputs": [],
   "source": [
    "b = randn(ni);"
   ]
  },
  {
   "cell_type": "code",
   "execution_count": 25,
   "metadata": {
    "collapsed": false
   },
   "outputs": [
    {
     "name": "stdout",
     "output_type": "stream",
     "text": [
      "  6.680540 seconds (7.94 M allocations: 1.884 GiB, 33.23% gc time)\n",
      "  7.658452 seconds (304 allocations: 968.952 MiB, 6.30% gc time)\n"
     ]
    },
    {
     "data": {
      "text/plain": [
       "3.281873561107211e-8"
      ]
     },
     "execution_count": 25,
     "metadata": {},
     "output_type": "execute_result"
    }
   ],
   "source": [
    "@time sol = approxchol_sddm(M);\n",
    "@time x = sol(b,tol=1e-8)\n",
    "norm(M*x-b)/norm(b)"
   ]
  },
  {
   "cell_type": "code",
   "execution_count": null,
   "metadata": {
    "collapsed": true
   },
   "outputs": [],
   "source": []
  }
 ],
 "metadata": {
  "kernelspec": {
   "display_name": "Julia 1.1.0",
   "language": "julia",
   "name": "julia-1.1"
  },
  "language_info": {
   "file_extension": ".jl",
   "mimetype": "application/julia",
   "name": "julia",
   "version": "1.1.0"
  }
 },
 "nbformat": 4,
 "nbformat_minor": 2
}
