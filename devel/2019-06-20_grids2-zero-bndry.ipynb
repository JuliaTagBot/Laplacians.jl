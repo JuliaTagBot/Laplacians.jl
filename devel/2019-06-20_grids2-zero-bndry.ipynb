{
 "cells": [
  {
   "cell_type": "code",
   "execution_count": 5,
   "metadata": {
    "collapsed": false
   },
   "outputs": [
    {
     "name": "stdout",
     "output_type": "stream",
     "text": [
      "Pkg.pathof(Laplacians) = \"/Users/rjkyng/Dropbox/Repos/Laplacians.jl/src/Laplacians.jl\"\n"
     ]
    }
   ],
   "source": [
    "using Revise\n",
    "using Laplacians\n",
    "using Pkg\n",
    "@show Pkg.pathof(Laplacians)\n",
    "using SparseArrays\n",
    "using LinearAlgebra\n",
    "using Statistics\n"
   ]
  },
  {
   "cell_type": "code",
   "execution_count": 17,
   "metadata": {
    "collapsed": false
   },
   "outputs": [
    {
     "data": {
      "text/plain": [
       "2:15"
      ]
     },
     "execution_count": 17,
     "metadata": {},
     "output_type": "execute_result"
    }
   ],
   "source": [
    "s1 = 4\n",
    "s2 = 4\n",
    "n = s1*s2\n",
    "2:n-1"
   ]
  },
  {
   "cell_type": "code",
   "execution_count": 50,
   "metadata": {
    "collapsed": false
   },
   "outputs": [
    {
     "name": "stdout",
     "output_type": "stream",
     "text": [
      "  0.000012 seconds (30 allocations: 4.047 KiB)\n",
      "  0.000012 seconds (14 allocations: 2.188 KiB)\n",
      "  0.000028 seconds (24 allocations: 1.969 KiB)\n",
      "  0.000006 seconds (9 allocations: 720 bytes)\n"
     ]
    },
    {
     "data": {
      "text/plain": [
       "2×2 SparseMatrixCSC{Float64,Int64} with 4 stored entries:\n",
       "  [1, 1]  =  4.0\n",
       "  [2, 1]  =  -1.0\n",
       "  [1, 2]  =  -1.0\n",
       "  [2, 2]  =  4.0"
      ]
     },
     "execution_count": 50,
     "metadata": {},
     "output_type": "execute_result"
    }
   ],
   "source": [
    "s1 = 3\n",
    "s2 = 4\n",
    "n = s1*s2\n",
    "@time A = ggrid2(s1,s2)\n",
    "@time L = lap(A)\n",
    "bot = 1:s1\n",
    "top = n-s1+1:n\n",
    "left = s1+1:s1:n-s1\n",
    "right = 2*s1:s1:n-1\n",
    "bndry = [bot; top; left; right]\n",
    "@time int = setdiff(1:n,bndry)\n",
    "@time M = L[int,int]"
   ]
  },
  {
   "cell_type": "code",
   "execution_count": 53,
   "metadata": {
    "collapsed": false
   },
   "outputs": [
    {
     "name": "stdout",
     "output_type": "stream",
     "text": [
      "  0.012694 seconds (48 allocations: 4.703 MiB, 53.74% gc time)\n",
      "  0.002483 seconds (22 allocations: 2.433 MiB)\n",
      "  0.001858 seconds (26 allocations: 460.477 KiB)\n",
      "  0.005086 seconds (13 allocations: 1.773 MiB)\n"
     ]
    },
    {
     "data": {
      "text/plain": [
       "19404"
      ]
     },
     "execution_count": 53,
     "metadata": {},
     "output_type": "execute_result"
    }
   ],
   "source": [
    "s1 = 100\n",
    "s2 = 200\n",
    "n = s1*s2\n",
    "@time A = ggrid2(s1,s2)\n",
    "@time L = lap(A)\n",
    "bot = 1:s1\n",
    "top = n-s1+1:n\n",
    "left = s1+1:s1:n-s1\n",
    "right = 2*s1:s1:n-1\n",
    "bndry = [bot; top; left; right]\n",
    "@time int = setdiff(1:n,bndry)\n",
    "@time M = L[int,int]\n",
    "ni = length(int)"
   ]
  },
  {
   "cell_type": "code",
   "execution_count": 55,
   "metadata": {
    "collapsed": false
   },
   "outputs": [],
   "source": [
    "b = randn(ni);"
   ]
  },
  {
   "cell_type": "code",
   "execution_count": 58,
   "metadata": {
    "collapsed": false
   },
   "outputs": [],
   "source": [
    "sol = approxchol_sddm(M);"
   ]
  },
  {
   "cell_type": "code",
   "execution_count": 59,
   "metadata": {
    "collapsed": false
   },
   "outputs": [
    {
     "data": {
      "text/plain": [
       "8.683712820712557e-10"
      ]
     },
     "execution_count": 59,
     "metadata": {},
     "output_type": "execute_result"
    }
   ],
   "source": [
    "x = sol(b,tol=1e-9)\n",
    "norm(M*x-b)/norm(b)"
   ]
  },
  {
   "cell_type": "code",
   "execution_count": 62,
   "metadata": {
    "collapsed": false
   },
   "outputs": [
    {
     "name": "stdout",
     "output_type": "stream",
     "text": [
      "  0.004881 seconds (46 allocations: 4.703 MiB)\n",
      "  0.001850 seconds (22 allocations: 2.433 MiB)\n",
      "  0.002359 seconds (26 allocations: 460.477 KiB)\n",
      "  0.003278 seconds (13 allocations: 1.773 MiB)\n"
     ]
    },
    {
     "data": {
      "text/plain": [
       "19404"
      ]
     },
     "execution_count": 62,
     "metadata": {},
     "output_type": "execute_result"
    }
   ],
   "source": [
    "s1 = 100\n",
    "s2 = 200\n",
    "n = s1*s2\n",
    "@time A = ggrid2_checkered(s1,s2,4,2,1e6)\n",
    "@time L = lap(A)\n",
    "bot = 1:s1\n",
    "top = n-s1+1:n\n",
    "left = s1+1:s1:n-s1\n",
    "right = 2*s1:s1:n-1\n",
    "bndry = [bot; top; left; right]\n",
    "@time int = setdiff(1:n,bndry)\n",
    "@time M = L[int,int]\n",
    "ni = length(int)"
   ]
  },
  {
   "cell_type": "code",
   "execution_count": 64,
   "metadata": {
    "collapsed": false
   },
   "outputs": [
    {
     "name": "stdout",
     "output_type": "stream",
     "text": [
      "  0.069409 seconds (116.05 k allocations: 32.285 MiB, 30.28% gc time)\n",
      "  0.050632 seconds (240 allocations: 14.076 MiB)\n"
     ]
    },
    {
     "data": {
      "text/plain": [
       "2.4188281126320004e-8"
      ]
     },
     "execution_count": 64,
     "metadata": {},
     "output_type": "execute_result"
    }
   ],
   "source": [
    "b = randn(ni);\n",
    "@time sol = approxchol_sddm(M);\n",
    "@time x = sol(b,tol=1e-9)\n",
    "norm(M*x-b)/norm(b)"
   ]
  },
  {
   "cell_type": "code",
   "execution_count": 69,
   "metadata": {
    "collapsed": false
   },
   "outputs": [
    {
     "name": "stdout",
     "output_type": "stream",
     "text": [
      "  0.848528 seconds (48.33 k allocations: 475.113 MiB, 33.01% gc time)\n",
      "  0.400591 seconds (22 allocations: 244.050 MiB, 52.65% gc time)\n",
      "  0.390546 seconds (31 allocations: 71.122 MiB, 25.96% gc time)\n",
      "  0.242819 seconds (13 allocations: 182.511 MiB, 40.73% gc time)\n"
     ]
    },
    {
     "data": {
      "text/plain": [
       "1994004"
      ]
     },
     "execution_count": 69,
     "metadata": {},
     "output_type": "execute_result"
    }
   ],
   "source": [
    "s1 = 1000\n",
    "s2 = 2000\n",
    "n = s1*s2\n",
    "@time A = ggrid2_checkered(s1,s2,4,2,2)\n",
    "@time L = lap(A)\n",
    "bot = 1:s1\n",
    "top = n-s1+1:n\n",
    "left = s1+1:s1:n-s1\n",
    "right = 2*s1:s1:n-1\n",
    "bndry = [bot; top; left; right]\n",
    "@time int = setdiff(1:n,bndry)\n",
    "@time M = L[int,int]\n",
    "ni = length(int)"
   ]
  },
  {
   "cell_type": "code",
   "execution_count": 70,
   "metadata": {
    "collapsed": false
   },
   "outputs": [
    {
     "name": "stdout",
     "output_type": "stream",
     "text": [
      "  6.722298 seconds (11.96 M allocations: 3.033 GiB, 34.10% gc time)\n",
      "  8.155499 seconds (270 allocations: 1.634 GiB, 9.15% gc time)\n"
     ]
    },
    {
     "data": {
      "text/plain": [
       "2.099250646662852e-9"
      ]
     },
     "execution_count": 70,
     "metadata": {},
     "output_type": "execute_result"
    }
   ],
   "source": [
    "b = randn(ni);\n",
    "@time sol = approxchol_sddm(M);\n",
    "@time x = sol(b,tol=1e-9)\n",
    "norm(M*x-b)/norm(b)"
   ]
  },
  {
   "cell_type": "code",
   "execution_count": 71,
   "metadata": {
    "collapsed": false
   },
   "outputs": [
    {
     "name": "stdout",
     "output_type": "stream",
     "text": [
      "  0.823242 seconds (46 allocations: 472.727 MiB, 42.63% gc time)\n",
      "  0.396466 seconds (22 allocations: 244.050 MiB, 56.37% gc time)\n",
      "  0.486003 seconds (31 allocations: 71.122 MiB, 24.18% gc time)\n",
      "  0.253379 seconds (13 allocations: 182.511 MiB, 41.31% gc time)\n"
     ]
    },
    {
     "data": {
      "text/plain": [
       "1994004"
      ]
     },
     "execution_count": 71,
     "metadata": {},
     "output_type": "execute_result"
    }
   ],
   "source": [
    "s1 = 1000\n",
    "s2 = 2000\n",
    "n = s1*s2\n",
    "@time A = ggrid2_checkered(s1,s2,4,2,1e4)\n",
    "@time L = lap(A)\n",
    "bot = 1:s1\n",
    "top = n-s1+1:n\n",
    "left = s1+1:s1:n-s1\n",
    "right = 2*s1:s1:n-1\n",
    "bndry = [bot; top; left; right]\n",
    "@time int = setdiff(1:n,bndry)\n",
    "@time M = L[int,int]\n",
    "ni = length(int)"
   ]
  },
  {
   "cell_type": "code",
   "execution_count": 72,
   "metadata": {
    "collapsed": false
   },
   "outputs": [
    {
     "name": "stdout",
     "output_type": "stream",
     "text": [
      "  6.452752 seconds (11.96 M allocations: 3.033 GiB, 34.75% gc time)\n",
      "  9.997529 seconds (314 allocations: 1.961 GiB, 6.99% gc time)\n"
     ]
    },
    {
     "data": {
      "text/plain": [
       "1.4558047946653972e-9"
      ]
     },
     "execution_count": 72,
     "metadata": {},
     "output_type": "execute_result"
    }
   ],
   "source": [
    "b = randn(ni);\n",
    "@time sol = approxchol_sddm(M);\n",
    "@time x = sol(b,tol=1e-9)\n",
    "norm(M*x-b)/norm(b)"
   ]
  },
  {
   "cell_type": "code",
   "execution_count": 73,
   "metadata": {
    "collapsed": false
   },
   "outputs": [
    {
     "name": "stdout",
     "output_type": "stream",
     "text": [
      "  0.832469 seconds (46 allocations: 472.727 MiB, 42.46% gc time)\n",
      "  0.318674 seconds (22 allocations: 244.050 MiB, 56.62% gc time)\n",
      "  0.418137 seconds (31 allocations: 71.122 MiB, 31.96% gc time)\n",
      "  0.256707 seconds (13 allocations: 182.511 MiB, 40.65% gc time)\n"
     ]
    },
    {
     "data": {
      "text/plain": [
       "1994004"
      ]
     },
     "execution_count": 73,
     "metadata": {},
     "output_type": "execute_result"
    }
   ],
   "source": [
    "s1 = 1000\n",
    "s2 = 2000\n",
    "n = s1*s2\n",
    "@time A = ggrid2_checkered(s1,s2,4,2,1e8)\n",
    "@time L = lap(A)\n",
    "bot = 1:s1\n",
    "top = n-s1+1:n\n",
    "left = s1+1:s1:n-s1\n",
    "right = 2*s1:s1:n-1\n",
    "bndry = [bot; top; left; right]\n",
    "@time int = setdiff(1:n,bndry)\n",
    "@time M = L[int,int]\n",
    "ni = length(int)"
   ]
  },
  {
   "cell_type": "code",
   "execution_count": 74,
   "metadata": {
    "collapsed": false
   },
   "outputs": [
    {
     "name": "stdout",
     "output_type": "stream",
     "text": [
      "  6.964991 seconds (11.96 M allocations: 3.033 GiB, 33.49% gc time)\n",
      " 11.959909 seconds (408 allocations: 2.659 GiB, 6.27% gc time)\n"
     ]
    },
    {
     "data": {
      "text/plain": [
       "9.835000280990894e-7"
      ]
     },
     "execution_count": 74,
     "metadata": {},
     "output_type": "execute_result"
    }
   ],
   "source": [
    "b = randn(ni);\n",
    "@time sol = approxchol_sddm(M);\n",
    "@time x = sol(b,tol=1e-9)\n",
    "norm(M*x-b)/norm(b)"
   ]
  },
  {
   "cell_type": "code",
   "execution_count": 75,
   "metadata": {
    "collapsed": false
   },
   "outputs": [
    {
     "name": "stdout",
     "output_type": "stream",
     "text": [
      "  0.914554 seconds (46 allocations: 472.727 MiB, 47.03% gc time)\n",
      "  0.435604 seconds (22 allocations: 244.050 MiB, 56.85% gc time)\n",
      "  0.531546 seconds (31 allocations: 71.122 MiB, 23.01% gc time)\n",
      "  0.282930 seconds (13 allocations: 182.511 MiB, 42.25% gc time)\n"
     ]
    },
    {
     "data": {
      "text/plain": [
       "1994004"
      ]
     },
     "execution_count": 75,
     "metadata": {},
     "output_type": "execute_result"
    }
   ],
   "source": [
    "s1 = 1000\n",
    "s2 = 2000\n",
    "n = s1*s2\n",
    "@time A = ggrid2_checkered(s1,s2,4,2,1e10)\n",
    "@time L = lap(A)\n",
    "bot = 1:s1\n",
    "top = n-s1+1:n\n",
    "left = s1+1:s1:n-s1\n",
    "right = 2*s1:s1:n-1\n",
    "bndry = [bot; top; left; right]\n",
    "@time int = setdiff(1:n,bndry)\n",
    "@time M = L[int,int]\n",
    "ni = length(int)"
   ]
  },
  {
   "cell_type": "code",
   "execution_count": 76,
   "metadata": {
    "collapsed": false
   },
   "outputs": [
    {
     "name": "stdout",
     "output_type": "stream",
     "text": [
      "  6.460895 seconds (11.96 M allocations: 3.033 GiB, 34.48% gc time)\n",
      "PCG Stopped by stagnation test 5\n",
      " 27.016041 seconds (26.44 k allocations: 5.929 GiB, 4.26% gc time)\n"
     ]
    },
    {
     "data": {
      "text/plain": [
       "2.5200540318266172e-5"
      ]
     },
     "execution_count": 76,
     "metadata": {},
     "output_type": "execute_result"
    }
   ],
   "source": [
    "b = randn(ni);\n",
    "@time sol = approxchol_sddm(M);\n",
    "@time x = sol(b,tol=1e-9)\n",
    "norm(M*x-b)/norm(b)"
   ]
  },
  {
   "cell_type": "markdown",
   "metadata": {},
   "source": [
    "# increasing no. blocks"
   ]
  },
  {
   "cell_type": "code",
   "execution_count": 83,
   "metadata": {
    "collapsed": false
   },
   "outputs": [
    {
     "name": "stdout",
     "output_type": "stream",
     "text": [
      "  1.274155 seconds (46 allocations: 472.727 MiB, 62.38% gc time)\n",
      "  0.350719 seconds (22 allocations: 244.050 MiB, 50.55% gc time)\n",
      "  0.333323 seconds (31 allocations: 71.122 MiB, 26.36% gc time)\n",
      "  0.338931 seconds (13 allocations: 182.511 MiB, 25.16% gc time)\n"
     ]
    },
    {
     "data": {
      "text/plain": [
       "1994004"
      ]
     },
     "execution_count": 83,
     "metadata": {},
     "output_type": "execute_result"
    }
   ],
   "source": [
    "s1 = 1000\n",
    "s2 = 2000\n",
    "n = s1*s2\n",
    "@time A = ggrid2_checkered(s1,s2,4,2,1e8)\n",
    "@time L = lap(A)\n",
    "bot = 1:s1\n",
    "top = n-s1+1:n\n",
    "left = s1+1:s1:n-s1\n",
    "right = 2*s1:s1:n-1\n",
    "bndry = [bot; top; left; right]\n",
    "@time int = setdiff(1:n,bndry)\n",
    "@time M = L[int,int]\n",
    "ni = length(int)"
   ]
  },
  {
   "cell_type": "code",
   "execution_count": 84,
   "metadata": {
    "collapsed": false
   },
   "outputs": [
    {
     "name": "stdout",
     "output_type": "stream",
     "text": [
      "  9.930631 seconds (11.96 M allocations: 3.033 GiB, 22.89% gc time)\n",
      "PCG Stopped by stagnation test 5\n",
      " 28.537663 seconds (971 allocations: 5.393 GiB, 3.68% gc time)\n"
     ]
    },
    {
     "data": {
      "text/plain": [
       "2.858095699599315e-7"
      ]
     },
     "execution_count": 84,
     "metadata": {},
     "output_type": "execute_result"
    }
   ],
   "source": [
    "b = randn(ni);\n",
    "@time sol = approxchol_sddm(M);\n",
    "@time x = sol(b,tol=1e-9)\n",
    "norm(M*x-b)/norm(b)"
   ]
  },
  {
   "cell_type": "code",
   "execution_count": 85,
   "metadata": {
    "collapsed": false
   },
   "outputs": [
    {
     "name": "stdout",
     "output_type": "stream",
     "text": [
      "  0.770870 seconds (46 allocations: 472.727 MiB, 36.11% gc time)\n",
      "  0.335909 seconds (22 allocations: 244.050 MiB, 54.70% gc time)\n",
      "  0.372773 seconds (31 allocations: 71.122 MiB, 28.76% gc time)\n",
      "  0.230731 seconds (13 allocations: 182.511 MiB, 36.59% gc time)\n"
     ]
    },
    {
     "data": {
      "text/plain": [
       "1994004"
      ]
     },
     "execution_count": 85,
     "metadata": {},
     "output_type": "execute_result"
    }
   ],
   "source": [
    "s1 = 1000\n",
    "s2 = 2000\n",
    "n = s1*s2\n",
    "@time A = ggrid2_checkered(s1,s2,8,2,1e8)\n",
    "@time L = lap(A)\n",
    "bot = 1:s1\n",
    "top = n-s1+1:n\n",
    "left = s1+1:s1:n-s1\n",
    "right = 2*s1:s1:n-1\n",
    "bndry = [bot; top; left; right]\n",
    "@time int = setdiff(1:n,bndry)\n",
    "@time M = L[int,int]\n",
    "ni = length(int)"
   ]
  },
  {
   "cell_type": "code",
   "execution_count": 86,
   "metadata": {
    "collapsed": false
   },
   "outputs": [
    {
     "name": "stdout",
     "output_type": "stream",
     "text": [
      "  6.209264 seconds (11.96 M allocations: 3.033 GiB, 35.25% gc time)\n",
      " 10.459916 seconds (348 allocations: 2.214 GiB, 6.92% gc time)\n"
     ]
    },
    {
     "data": {
      "text/plain": [
       "3.066581094488994e-8"
      ]
     },
     "execution_count": 86,
     "metadata": {},
     "output_type": "execute_result"
    }
   ],
   "source": [
    "b = randn(ni);\n",
    "@time sol = approxchol_sddm(M);\n",
    "@time x = sol(b,tol=1e-9)\n",
    "norm(M*x-b)/norm(b)"
   ]
  },
  {
   "cell_type": "code",
   "execution_count": 87,
   "metadata": {
    "collapsed": false
   },
   "outputs": [
    {
     "name": "stdout",
     "output_type": "stream",
     "text": [
      "  1.982103 seconds (46 allocations: 472.727 MiB, 40.98% gc time)\n",
      "  0.515702 seconds (22 allocations: 244.050 MiB, 61.89% gc time)\n",
      "  0.526323 seconds (31 allocations: 71.122 MiB, 20.63% gc time)\n",
      "  0.303183 seconds (13 allocations: 182.511 MiB, 33.57% gc time)\n"
     ]
    },
    {
     "data": {
      "text/plain": [
       "1994004"
      ]
     },
     "execution_count": 87,
     "metadata": {},
     "output_type": "execute_result"
    }
   ],
   "source": [
    "s1 = 1000\n",
    "s2 = 2000\n",
    "n = s1*s2\n",
    "@time A = ggrid2_checkered(s1,s2,16,2,1e8)\n",
    "@time L = lap(A)\n",
    "bot = 1:s1\n",
    "top = n-s1+1:n\n",
    "left = s1+1:s1:n-s1\n",
    "right = 2*s1:s1:n-1\n",
    "bndry = [bot; top; left; right]\n",
    "@time int = setdiff(1:n,bndry)\n",
    "@time M = L[int,int]\n",
    "ni = length(int)"
   ]
  },
  {
   "cell_type": "code",
   "execution_count": 88,
   "metadata": {
    "collapsed": false
   },
   "outputs": [
    {
     "name": "stdout",
     "output_type": "stream",
     "text": [
      "  7.867489 seconds (11.96 M allocations: 3.033 GiB, 27.93% gc time)\n",
      "PCG Stopped by stagnation test 5\n",
      " 15.277272 seconds (599 allocations: 2.630 GiB, 4.90% gc time)\n"
     ]
    },
    {
     "data": {
      "text/plain": [
       "6.824804423151784e-8"
      ]
     },
     "execution_count": 88,
     "metadata": {},
     "output_type": "execute_result"
    }
   ],
   "source": [
    "b = randn(ni);\n",
    "@time sol = approxchol_sddm(M);\n",
    "@time x = sol(b,tol=1e-9)\n",
    "norm(M*x-b)/norm(b)"
   ]
  },
  {
   "cell_type": "code",
   "execution_count": null,
   "metadata": {
    "collapsed": true
   },
   "outputs": [],
   "source": []
  }
 ],
 "metadata": {
  "kernelspec": {
   "display_name": "Julia 1.1.0",
   "language": "julia",
   "name": "julia-1.1"
  },
  "language_info": {
   "file_extension": ".jl",
   "mimetype": "application/julia",
   "name": "julia",
   "version": "1.1.0"
  }
 },
 "nbformat": 4,
 "nbformat_minor": 2
}
