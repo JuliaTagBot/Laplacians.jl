{
 "cells": [
  {
   "cell_type": "code",
   "execution_count": 1,
   "metadata": {
    "collapsed": false
   },
   "outputs": [
    {
     "name": "stdout",
     "output_type": "stream",
     "text": [
      "Pkg.pathof(Laplacians) = \"/Users/rjkyng/Dropbox/Repos/Laplacians.jl/src/Laplacians.jl\"\n"
     ]
    }
   ],
   "source": [
    "using Revise\n",
    "using Laplacians\n",
    "using Pkg\n",
    "@show Pkg.pathof(Laplacians)\n",
    "using SparseArrays\n",
    "using LinearAlgebra\n",
    "using Statistics\n"
   ]
  },
  {
   "cell_type": "code",
   "execution_count": 2,
   "metadata": {
    "collapsed": false
   },
   "outputs": [
    {
     "data": {
      "text/plain": [
       "2:15"
      ]
     },
     "execution_count": 2,
     "metadata": {},
     "output_type": "execute_result"
    }
   ],
   "source": [
    "s1 = 4\n",
    "s2 = 4\n",
    "n = s1*s2\n",
    "2:n-1"
   ]
  },
  {
   "cell_type": "code",
   "execution_count": 3,
   "metadata": {
    "collapsed": false
   },
   "outputs": [
    {
     "name": "stdout",
     "output_type": "stream",
     "text": [
      "  0.463008 seconds (1.04 M allocations: 51.437 MiB, 2.66% gc time)\n",
      "  0.091715 seconds (197.72 k allocations: 9.968 MiB, 6.40% gc time)\n",
      "  0.179064 seconds (488.53 k allocations: 24.063 MiB, 3.36% gc time)\n",
      "  0.256165 seconds (620.41 k allocations: 30.023 MiB, 2.49% gc time)\n"
     ]
    },
    {
     "data": {
      "text/plain": [
       "2×2 SparseMatrixCSC{Float64,Int64} with 4 stored entries:\n",
       "  [1, 1]  =  4.0\n",
       "  [2, 1]  =  -1.0\n",
       "  [1, 2]  =  -1.0\n",
       "  [2, 2]  =  4.0"
      ]
     },
     "execution_count": 3,
     "metadata": {},
     "output_type": "execute_result"
    }
   ],
   "source": [
    "s1 = 3\n",
    "s2 = 4\n",
    "n = s1*s2\n",
    "@time A = ggrid2(s1,s2)\n",
    "@time L = lap(A)\n",
    "bot = 1:s1\n",
    "top = n-s1+1:n\n",
    "left = s1+1:s1:n-s1\n",
    "right = 2*s1:s1:n-1\n",
    "bndry = [bot; top; left; right]\n",
    "@time int = setdiff(1:n,bndry)\n",
    "@time M = L[int,int]"
   ]
  },
  {
   "cell_type": "code",
   "execution_count": 4,
   "metadata": {
    "collapsed": false
   },
   "outputs": [
    {
     "name": "stdout",
     "output_type": "stream",
     "text": [
      "  0.003787 seconds (48 allocations: 4.703 MiB)\n",
      "  0.002072 seconds (22 allocations: 2.433 MiB)\n",
      "  0.001060 seconds (26 allocations: 460.477 KiB)\n",
      "  0.001567 seconds (13 allocations: 1.773 MiB)\n"
     ]
    },
    {
     "data": {
      "text/plain": [
       "19404"
      ]
     },
     "execution_count": 4,
     "metadata": {},
     "output_type": "execute_result"
    }
   ],
   "source": [
    "s1 = 100\n",
    "s2 = 200\n",
    "n = s1*s2\n",
    "@time A = ggrid2(s1,s2)\n",
    "@time L = lap(A)\n",
    "bot = 1:s1\n",
    "top = n-s1+1:n\n",
    "left = s1+1:s1:n-s1\n",
    "right = 2*s1:s1:n-1\n",
    "bndry = [bot; top; left; right]\n",
    "@time int = setdiff(1:n,bndry)\n",
    "@time M = L[int,int]\n",
    "ni = length(int)"
   ]
  },
  {
   "cell_type": "code",
   "execution_count": 5,
   "metadata": {
    "collapsed": false
   },
   "outputs": [],
   "source": [
    "b = randn(ni);"
   ]
  },
  {
   "cell_type": "code",
   "execution_count": 6,
   "metadata": {
    "collapsed": false
   },
   "outputs": [],
   "source": [
    "sol = approxchol_sddm(M);"
   ]
  },
  {
   "cell_type": "code",
   "execution_count": 7,
   "metadata": {
    "collapsed": false
   },
   "outputs": [
    {
     "data": {
      "text/plain": [
       "1.0082811822885697e-9"
      ]
     },
     "execution_count": 7,
     "metadata": {},
     "output_type": "execute_result"
    }
   ],
   "source": [
    "x = sol(b,tol=1e-9)\n",
    "norm(M*x-b)/norm(b)"
   ]
  },
  {
   "cell_type": "code",
   "execution_count": 8,
   "metadata": {
    "collapsed": false
   },
   "outputs": [
    {
     "name": "stdout",
     "output_type": "stream",
     "text": [
      "  0.063313 seconds (48.63 k allocations: 7.092 MiB)\n",
      "  0.002388 seconds (22 allocations: 2.433 MiB)\n",
      "  0.001155 seconds (26 allocations: 460.477 KiB)\n",
      "  0.001918 seconds (13 allocations: 1.773 MiB)\n"
     ]
    },
    {
     "data": {
      "text/plain": [
       "19404"
      ]
     },
     "execution_count": 8,
     "metadata": {},
     "output_type": "execute_result"
    }
   ],
   "source": [
    "s1 = 100\n",
    "s2 = 200\n",
    "n = s1*s2\n",
    "@time A = ggrid2_checkered(s1,s2,4,2,1e6)\n",
    "@time L = lap(A)\n",
    "bot = 1:s1\n",
    "top = n-s1+1:n\n",
    "left = s1+1:s1:n-s1\n",
    "right = 2*s1:s1:n-1\n",
    "bndry = [bot; top; left; right]\n",
    "@time int = setdiff(1:n,bndry)\n",
    "@time M = L[int,int]\n",
    "ni = length(int)"
   ]
  },
  {
   "cell_type": "code",
   "execution_count": 9,
   "metadata": {
    "collapsed": false
   },
   "outputs": [
    {
     "name": "stdout",
     "output_type": "stream",
     "text": [
      "  0.057289 seconds (116.05 k allocations: 32.285 MiB, 6.70% gc time)\n",
      "  0.045244 seconds (224 allocations: 12.890 MiB, 7.46% gc time)\n"
     ]
    },
    {
     "data": {
      "text/plain": [
       "1.9979401051657732e-8"
      ]
     },
     "execution_count": 9,
     "metadata": {},
     "output_type": "execute_result"
    }
   ],
   "source": [
    "b = randn(ni);\n",
    "@time sol = approxchol_sddm(M);\n",
    "@time x = sol(b,tol=1e-9)\n",
    "norm(M*x-b)/norm(b)"
   ]
  },
  {
   "cell_type": "code",
   "execution_count": 10,
   "metadata": {
    "collapsed": false
   },
   "outputs": [
    {
     "name": "stdout",
     "output_type": "stream",
     "text": [
      "  0.868473 seconds (48.33 k allocations: 475.113 MiB, 42.20% gc time)\n",
      "  0.186062 seconds (22 allocations: 244.050 MiB)\n",
      "  0.416583 seconds (31 allocations: 71.122 MiB, 24.56% gc time)\n",
      "  0.187466 seconds (13 allocations: 182.511 MiB)\n"
     ]
    },
    {
     "data": {
      "text/plain": [
       "1994004"
      ]
     },
     "execution_count": 10,
     "metadata": {},
     "output_type": "execute_result"
    }
   ],
   "source": [
    "s1 = 1000\n",
    "s2 = 2000\n",
    "n = s1*s2\n",
    "@time A = ggrid2_checkered(s1,s2,4,2,2)\n",
    "@time L = lap(A)\n",
    "bot = 1:s1\n",
    "top = n-s1+1:n\n",
    "left = s1+1:s1:n-s1\n",
    "right = 2*s1:s1:n-1\n",
    "bndry = [bot; top; left; right]\n",
    "@time int = setdiff(1:n,bndry)\n",
    "@time M = L[int,int]\n",
    "ni = length(int)"
   ]
  },
  {
   "cell_type": "code",
   "execution_count": 11,
   "metadata": {
    "collapsed": false
   },
   "outputs": [
    {
     "name": "stdout",
     "output_type": "stream",
     "text": [
      "  5.292699 seconds (11.96 M allocations: 3.033 GiB, 15.47% gc time)\n",
      "  8.830357 seconds (278 allocations: 1.694 GiB, 7.25% gc time)\n"
     ]
    },
    {
     "data": {
      "text/plain": [
       "1.368338421074485e-9"
      ]
     },
     "execution_count": 11,
     "metadata": {},
     "output_type": "execute_result"
    }
   ],
   "source": [
    "b = randn(ni);\n",
    "@time sol = approxchol_sddm(M);\n",
    "@time x = sol(b,tol=1e-9)\n",
    "norm(M*x-b)/norm(b)"
   ]
  },
  {
   "cell_type": "code",
   "execution_count": 12,
   "metadata": {
    "collapsed": false
   },
   "outputs": [
    {
     "name": "stdout",
     "output_type": "stream",
     "text": [
      "  0.740258 seconds (46 allocations: 472.727 MiB, 39.31% gc time)\n",
      "  0.329841 seconds (22 allocations: 244.050 MiB, 56.72% gc time)\n",
      "  0.451685 seconds (31 allocations: 71.122 MiB, 22.07% gc time)\n",
      "  0.222383 seconds (13 allocations: 182.511 MiB, 39.29% gc time)\n"
     ]
    },
    {
     "data": {
      "text/plain": [
       "1994004"
      ]
     },
     "execution_count": 12,
     "metadata": {},
     "output_type": "execute_result"
    }
   ],
   "source": [
    "s1 = 1000\n",
    "s2 = 2000\n",
    "n = s1*s2\n",
    "@time A = ggrid2_checkered(s1,s2,4,2,1e4)\n",
    "@time L = lap(A)\n",
    "bot = 1:s1\n",
    "top = n-s1+1:n\n",
    "left = s1+1:s1:n-s1\n",
    "right = 2*s1:s1:n-1\n",
    "bndry = [bot; top; left; right]\n",
    "@time int = setdiff(1:n,bndry)\n",
    "@time M = L[int,int]\n",
    "ni = length(int)"
   ]
  },
  {
   "cell_type": "code",
   "execution_count": 13,
   "metadata": {
    "collapsed": false
   },
   "outputs": [
    {
     "name": "stdout",
     "output_type": "stream",
     "text": [
      "  5.989295 seconds (11.96 M allocations: 3.033 GiB, 33.96% gc time)\n",
      "  9.518849 seconds (286 allocations: 1.753 GiB, 7.28% gc time)\n"
     ]
    },
    {
     "data": {
      "text/plain": [
       "7.965312811247576e-9"
      ]
     },
     "execution_count": 13,
     "metadata": {},
     "output_type": "execute_result"
    }
   ],
   "source": [
    "b = randn(ni);\n",
    "@time sol = approxchol_sddm(M);\n",
    "@time x = sol(b,tol=1e-8)\n",
    "norm(M*x-b)/norm(b)"
   ]
  },
  {
   "cell_type": "code",
   "execution_count": 14,
   "metadata": {
    "collapsed": false
   },
   "outputs": [
    {
     "name": "stdout",
     "output_type": "stream",
     "text": [
      "  0.716789 seconds (46 allocations: 472.727 MiB, 41.98% gc time)\n",
      "  0.319142 seconds (22 allocations: 244.050 MiB, 56.59% gc time)\n",
      "  0.435506 seconds (31 allocations: 71.122 MiB, 22.58% gc time)\n",
      "  0.224741 seconds (13 allocations: 182.511 MiB, 40.52% gc time)\n"
     ]
    },
    {
     "data": {
      "text/plain": [
       "1994004"
      ]
     },
     "execution_count": 14,
     "metadata": {},
     "output_type": "execute_result"
    }
   ],
   "source": [
    "s1 = 1000\n",
    "s2 = 2000\n",
    "n = s1*s2\n",
    "@time A = ggrid2_checkered(s1,s2,4,2,1e8)\n",
    "@time L = lap(A)\n",
    "bot = 1:s1\n",
    "top = n-s1+1:n\n",
    "left = s1+1:s1:n-s1\n",
    "right = 2*s1:s1:n-1\n",
    "bndry = [bot; top; left; right]\n",
    "@time int = setdiff(1:n,bndry)\n",
    "@time M = L[int,int]\n",
    "ni = length(int)"
   ]
  },
  {
   "cell_type": "code",
   "execution_count": 15,
   "metadata": {
    "collapsed": false
   },
   "outputs": [
    {
     "name": "stdout",
     "output_type": "stream",
     "text": [
      "  5.856816 seconds (11.96 M allocations: 3.033 GiB, 34.85% gc time)\n",
      "PCG Stopped by stagnation test 5\n",
      " 32.388226 seconds (26.60 k allocations: 7.088 GiB, 3.09% gc time)\n"
     ]
    },
    {
     "data": {
      "text/plain": [
       "7.360921001721789e-7"
      ]
     },
     "execution_count": 15,
     "metadata": {},
     "output_type": "execute_result"
    }
   ],
   "source": [
    "b = randn(ni);\n",
    "@time sol = approxchol_sddm(M);\n",
    "@time x = sol(b,tol=1e-8)\n",
    "norm(M*x-b)/norm(b)"
   ]
  },
  {
   "cell_type": "code",
   "execution_count": 16,
   "metadata": {
    "collapsed": false
   },
   "outputs": [
    {
     "name": "stdout",
     "output_type": "stream",
     "text": [
      "  0.725368 seconds (46 allocations: 472.727 MiB, 41.57% gc time)\n",
      "  0.356569 seconds (22 allocations: 244.050 MiB, 55.75% gc time)\n",
      "  0.362460 seconds (31 allocations: 71.122 MiB, 27.16% gc time)\n",
      "  0.274113 seconds (13 allocations: 182.511 MiB, 37.50% gc time)\n"
     ]
    },
    {
     "data": {
      "text/plain": [
       "1994004"
      ]
     },
     "execution_count": 16,
     "metadata": {},
     "output_type": "execute_result"
    }
   ],
   "source": [
    "s1 = 1000\n",
    "s2 = 2000\n",
    "n = s1*s2\n",
    "@time A = ggrid2_checkered(s1,s2,4,2,1e10)\n",
    "@time L = lap(A)\n",
    "bot = 1:s1\n",
    "top = n-s1+1:n\n",
    "left = s1+1:s1:n-s1\n",
    "right = 2*s1:s1:n-1\n",
    "bndry = [bot; top; left; right]\n",
    "@time int = setdiff(1:n,bndry)\n",
    "@time M = L[int,int]\n",
    "ni = length(int)"
   ]
  },
  {
   "cell_type": "code",
   "execution_count": 17,
   "metadata": {
    "collapsed": false
   },
   "outputs": [
    {
     "name": "stdout",
     "output_type": "stream",
     "text": [
      "  7.066313 seconds (11.96 M allocations: 3.033 GiB, 34.45% gc time)\n",
      "PCG Stopped by stagnation test 5\n",
      " 12.802559 seconds (631 allocations: 2.867 GiB, 5.23% gc time)\n"
     ]
    },
    {
     "data": {
      "text/plain": [
       "4.801299271188252e-5"
      ]
     },
     "execution_count": 17,
     "metadata": {},
     "output_type": "execute_result"
    }
   ],
   "source": [
    "b = randn(ni);\n",
    "@time sol = approxchol_sddm(M);\n",
    "@time x = sol(b,tol=1e-9)\n",
    "norm(M*x-b)/norm(b)"
   ]
  },
  {
   "cell_type": "markdown",
   "metadata": {},
   "source": [
    "# increasing no. blocks"
   ]
  },
  {
   "cell_type": "code",
   "execution_count": 18,
   "metadata": {
    "collapsed": false
   },
   "outputs": [
    {
     "name": "stdout",
     "output_type": "stream",
     "text": [
      "  0.835056 seconds (46 allocations: 472.727 MiB, 41.76% gc time)\n",
      "  0.399855 seconds (22 allocations: 244.050 MiB, 58.93% gc time)\n",
      "  0.425129 seconds (31 allocations: 71.122 MiB, 23.26% gc time)\n",
      "  0.243599 seconds (13 allocations: 182.511 MiB, 38.95% gc time)\n"
     ]
    },
    {
     "data": {
      "text/plain": [
       "1994004"
      ]
     },
     "execution_count": 18,
     "metadata": {},
     "output_type": "execute_result"
    }
   ],
   "source": [
    "s1 = 1000\n",
    "s2 = 2000\n",
    "n = s1*s2\n",
    "@time A = ggrid2_checkered(s1,s2,4,2,1e6)\n",
    "@time L = lap(A)\n",
    "bot = 1:s1\n",
    "top = n-s1+1:n\n",
    "left = s1+1:s1:n-s1\n",
    "right = 2*s1:s1:n-1\n",
    "bndry = [bot; top; left; right]\n",
    "@time int = setdiff(1:n,bndry)\n",
    "@time M = L[int,int]\n",
    "ni = length(int)"
   ]
  },
  {
   "cell_type": "code",
   "execution_count": 20,
   "metadata": {
    "collapsed": false
   },
   "outputs": [
    {
     "name": "stdout",
     "output_type": "stream",
     "text": [
      "  5.299834 seconds (11.96 M allocations: 3.033 GiB, 34.39% gc time)\n",
      "  8.408937 seconds (310 allocations: 1.931 GiB, 6.13% gc time)\n"
     ]
    },
    {
     "data": {
      "text/plain": [
       "7.61516134555059e-9"
      ]
     },
     "execution_count": 20,
     "metadata": {},
     "output_type": "execute_result"
    }
   ],
   "source": [
    "b = randn(ni);\n",
    "@time sol = approxchol_sddm(M);\n",
    "@time x = sol(b,tol=1e-8)\n",
    "norm(M*x-b)/norm(b)"
   ]
  },
  {
   "cell_type": "code",
   "execution_count": 21,
   "metadata": {
    "collapsed": false
   },
   "outputs": [
    {
     "name": "stdout",
     "output_type": "stream",
     "text": [
      "  0.737325 seconds (46 allocations: 472.727 MiB, 39.73% gc time)\n",
      "  0.325987 seconds (22 allocations: 244.050 MiB, 55.37% gc time)\n",
      "  0.421837 seconds (31 allocations: 71.122 MiB, 22.49% gc time)\n",
      "  0.231751 seconds (13 allocations: 182.511 MiB, 40.26% gc time)\n"
     ]
    },
    {
     "data": {
      "text/plain": [
       "1994004"
      ]
     },
     "execution_count": 21,
     "metadata": {},
     "output_type": "execute_result"
    }
   ],
   "source": [
    "s1 = 1000\n",
    "s2 = 2000\n",
    "n = s1*s2\n",
    "@time A = ggrid2_checkered(s1,s2,8,2,1e6)\n",
    "@time L = lap(A)\n",
    "bot = 1:s1\n",
    "top = n-s1+1:n\n",
    "left = s1+1:s1:n-s1\n",
    "right = 2*s1:s1:n-1\n",
    "bndry = [bot; top; left; right]\n",
    "@time int = setdiff(1:n,bndry)\n",
    "@time M = L[int,int]\n",
    "ni = length(int)"
   ]
  },
  {
   "cell_type": "code",
   "execution_count": 22,
   "metadata": {
    "collapsed": false
   },
   "outputs": [
    {
     "name": "stdout",
     "output_type": "stream",
     "text": [
      "  6.366491 seconds (11.96 M allocations: 3.033 GiB, 34.09% gc time)\n",
      "  9.271407 seconds (314 allocations: 1.961 GiB, 6.84% gc time)\n"
     ]
    },
    {
     "data": {
      "text/plain": [
       "1.1772432837721539e-8"
      ]
     },
     "execution_count": 22,
     "metadata": {},
     "output_type": "execute_result"
    }
   ],
   "source": [
    "b = randn(ni);\n",
    "@time sol = approxchol_sddm(M);\n",
    "@time x = sol(b,tol=1e-8)\n",
    "norm(M*x-b)/norm(b)"
   ]
  },
  {
   "cell_type": "code",
   "execution_count": 23,
   "metadata": {
    "collapsed": false
   },
   "outputs": [
    {
     "name": "stdout",
     "output_type": "stream",
     "text": [
      "  0.762782 seconds (46 allocations: 472.727 MiB, 38.84% gc time)\n",
      "  0.349320 seconds (22 allocations: 244.050 MiB, 55.35% gc time)\n",
      "  0.442667 seconds (31 allocations: 71.122 MiB, 23.26% gc time)\n",
      "  0.240974 seconds (13 allocations: 182.511 MiB, 39.08% gc time)\n"
     ]
    },
    {
     "data": {
      "text/plain": [
       "1994004"
      ]
     },
     "execution_count": 23,
     "metadata": {},
     "output_type": "execute_result"
    }
   ],
   "source": [
    "s1 = 1000\n",
    "s2 = 2000\n",
    "n = s1*s2\n",
    "@time A = ggrid2_checkered(s1,s2,16,2,1e6)\n",
    "@time L = lap(A)\n",
    "bot = 1:s1\n",
    "top = n-s1+1:n\n",
    "left = s1+1:s1:n-s1\n",
    "right = 2*s1:s1:n-1\n",
    "bndry = [bot; top; left; right]\n",
    "@time int = setdiff(1:n,bndry)\n",
    "@time M = L[int,int]\n",
    "ni = length(int)"
   ]
  },
  {
   "cell_type": "code",
   "execution_count": 24,
   "metadata": {
    "collapsed": false
   },
   "outputs": [
    {
     "name": "stdout",
     "output_type": "stream",
     "text": [
      "  6.847026 seconds (11.96 M allocations: 3.033 GiB, 32.12% gc time)\n",
      " 11.520902 seconds (346 allocations: 2.199 GiB, 5.89% gc time)\n"
     ]
    },
    {
     "data": {
      "text/plain": [
       "9.839249086228103e-9"
      ]
     },
     "execution_count": 24,
     "metadata": {},
     "output_type": "execute_result"
    }
   ],
   "source": [
    "b = randn(ni);\n",
    "@time sol = approxchol_sddm(M);\n",
    "@time x = sol(b,tol=1e-8)\n",
    "norm(M*x-b)/norm(b)"
   ]
  },
  {
   "cell_type": "code",
   "execution_count": null,
   "metadata": {
    "collapsed": true
   },
   "outputs": [],
   "source": []
  }
 ],
 "metadata": {
  "kernelspec": {
   "display_name": "Julia 1.1.0",
   "language": "julia",
   "name": "julia-1.1"
  },
  "language_info": {
   "file_extension": ".jl",
   "mimetype": "application/julia",
   "name": "julia",
   "version": "1.1.0"
  }
 },
 "nbformat": 4,
 "nbformat_minor": 2
}
