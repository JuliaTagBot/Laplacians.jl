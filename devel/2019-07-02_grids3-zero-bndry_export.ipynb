{
 "cells": [
  {
   "cell_type": "code",
   "execution_count": 1,
   "metadata": {
    "collapsed": false
   },
   "outputs": [
    {
     "name": "stderr",
     "output_type": "stream",
     "text": [
      "┌ Info: Recompiling stale cache file /Users/rjkyng/.julia/compiled/v1.1/Laplacians/poVbr.ji for Laplacians [6f8e5838-0efe-5de0-80a3-5fb4f8dbb1de]\n",
      "└ @ Base loading.jl:1184\n"
     ]
    },
    {
     "name": "stdout",
     "output_type": "stream",
     "text": [
      "Pkg.pathof(Laplacians) = \"/Users/rjkyng/Dropbox/Repos/Laplacians.jl/src/Laplacians.jl\"\n"
     ]
    }
   ],
   "source": [
    "using Revise\n",
    "using Laplacians\n",
    "using Pkg\n",
    "@show Pkg.pathof(Laplacians)\n",
    "using SparseArrays\n",
    "using LinearAlgebra"
   ]
  },
  {
   "cell_type": "code",
   "execution_count": 3,
   "metadata": {
    "collapsed": false
   },
   "outputs": [
    {
     "data": {
      "text/plain": [
       "indexToLinear (generic function with 1 method)"
      ]
     },
     "execution_count": 3,
     "metadata": {},
     "output_type": "execute_result"
    }
   ],
   "source": [
    "function indexToLinear(x,y,z,xlen,ylen)\n",
    "    return x+(y-1)*xlen+(z-1)*xlen*ylen\n",
    "end"
   ]
  },
  {
   "cell_type": "code",
   "execution_count": 7,
   "metadata": {
    "collapsed": false
   },
   "outputs": [
    {
     "name": "stdout",
     "output_type": "stream",
     "text": [
      "  0.969339 seconds (48 allocations: 353.147 MiB, 55.36% gc time)\n",
      "  0.258272 seconds (26 allocations: 26.643 MiB, 38.80% gc time)\n",
      "  0.308463 seconds (22 allocations: 160.976 MiB, 31.45% gc time)\n",
      "  0.325965 seconds (13 allocations: 121.622 MiB, 27.66% gc time)\n"
     ]
    },
    {
     "data": {
      "text/plain": [
       "1000000×1000000 SparseMatrixCSC{Float64,Int64} with 6940000 stored entries:\n",
       "  [1      ,       1]  =  6.0e6\n",
       "  [2      ,       1]  =  -1.0e6\n",
       "  [101    ,       1]  =  -1.0e6\n",
       "  [10001  ,       1]  =  -1.0e6\n",
       "  [1      ,       2]  =  -1.0e6\n",
       "  [2      ,       2]  =  6.0e6\n",
       "  [3      ,       2]  =  -1.0e6\n",
       "  [102    ,       2]  =  -1.0e6\n",
       "  [10002  ,       2]  =  -1.0e6\n",
       "  [2      ,       3]  =  -1.0e6\n",
       "  [3      ,       3]  =  6.0e6\n",
       "  [4      ,       3]  =  -1.0e6\n",
       "  ⋮\n",
       "  [999997 ,  999998]  =  -1.0e6\n",
       "  [999998 ,  999998]  =  6.0e6\n",
       "  [999999 ,  999998]  =  -1.0e6\n",
       "  [989999 ,  999999]  =  -1.0e6\n",
       "  [999899 ,  999999]  =  -1.0e6\n",
       "  [999998 ,  999999]  =  -1.0e6\n",
       "  [999999 ,  999999]  =  6.0e6\n",
       "  [1000000,  999999]  =  -1.0e6\n",
       "  [990000 , 1000000]  =  -1.0e6\n",
       "  [999900 , 1000000]  =  -1.0e6\n",
       "  [999999 , 1000000]  =  -1.0e6\n",
       "  [1000000, 1000000]  =  6.0e6"
      ]
     },
     "execution_count": 7,
     "metadata": {},
     "output_type": "execute_result"
    }
   ],
   "source": [
    "s = 102\n",
    "\n",
    "s1 = s\n",
    "s2 = s\n",
    "s3 = s\n",
    "b1,b2,b3 = 3,3,3\n",
    "w = 1e6\n",
    "@time A = ggrid3_checkered(s1,s2,s3,b1,b2,b3,w);\n",
    "x,y,z = ggrid3coords(s1,s2,s3);\n",
    "\n",
    "n = s1*s2*s3\n",
    "zsidesize = s1*s2\n",
    "xsidesize = s2*s3\n",
    "ysidesize = s1*s3\n",
    "zside1b = 1:zsidesize # bot \n",
    "zside2b = n-zsidesize+1:n # top\n",
    "\n",
    "zside1 = Array{Int64}(undef,zsidesize)\n",
    "for (i,(x,y)) in Base.Iterators.enumerate(Base.product(1:s1,1:s2))\n",
    "    zside1[i] = indexToLinear(x,y,1,s1,s2)\n",
    "end\n",
    "\n",
    "zside2 = Array{Int64}(undef,zsidesize)\n",
    "for (i,(x,y)) in Base.Iterators.enumerate(Base.product(1:s1,1:s2))\n",
    "    zside2[i] = indexToLinear(x,y,s3,s1,s2)\n",
    "end\n",
    "\n",
    "xside1 = Array{Int64}(undef,xsidesize)\n",
    "for (i,(y,z)) in Base.Iterators.enumerate(Base.product(1:s2,1:s3))\n",
    "#     @show (i,(y,z))\n",
    "#     if (y == 2 && z == 2)\n",
    "#         @show z == 2\n",
    "#         @show indexToLinear(1,y,z,s1,s2)\n",
    "#     end\n",
    "    xside1[i] = indexToLinear(1,y,z,s1,s2)\n",
    "end\n",
    "\n",
    "xside2 = Array{Int64}(undef,xsidesize)\n",
    "for (i,(y,z)) in Base.Iterators.enumerate(Base.product(1:s2,1:s3))\n",
    "    xside2[i] = indexToLinear(s1,y,z,s1,s2)\n",
    "end\n",
    "\n",
    "yside1 = Array{Int64}(undef,ysidesize)\n",
    "for (i,(x,z)) in Base.Iterators.enumerate(Base.product(1:s1,1:s3))\n",
    "    yside1[i] = indexToLinear(x,1,z,s1,s2)\n",
    "end\n",
    "\n",
    "yside2 = Array{Int64}(undef,ysidesize)\n",
    "for (i,(x,z)) in Base.Iterators.enumerate(Base.product(1:s1,1:s3))\n",
    "    yside2[i] = indexToLinear(x,s2,z,s1,s2)\n",
    "end\n",
    "\n",
    "bndry = [zside1; zside2; xside1; xside2; yside1; yside2];\n",
    "@time int = setdiff(1:n,bndry)\n",
    "\n",
    "ni = length(int) #this is the remaining variables\n",
    "@assert(ni == (s-2)^3)\n",
    "\n",
    "@time L = lap(A) # create the Laplacian\n",
    "@time M = L[int,int]\n",
    "# remove the rows and colums corresponding to the boundary of the grid\n",
    "# -- this is because we essentially want to force boundary voltages to be zero\n",
    "\n"
   ]
  },
  {
   "cell_type": "code",
   "execution_count": 9,
   "metadata": {
    "collapsed": false
   },
   "outputs": [],
   "source": [
    "b = randn(ni);"
   ]
  },
  {
   "cell_type": "code",
   "execution_count": 10,
   "metadata": {
    "collapsed": true
   },
   "outputs": [],
   "source": [
    "includet(\"../compare/hypreExport.jl\")"
   ]
  },
  {
   "cell_type": "code",
   "execution_count": 11,
   "metadata": {
    "collapsed": false
   },
   "outputs": [
    {
     "name": "stdout",
     "output_type": "stream",
     "text": [
      "\n",
      "                            < M A T L A B (R) >\n",
      "                  Copyright 1984-2018 The MathWorks, Inc.\n",
      "                   R2018b (9.5.0.944444) 64-bit (maci64)\n",
      "                              August 28, 2018\n",
      "\n",
      " \n",
      "For online documentation, see https://www.mathworks.com/support\n",
      "For product information, visit www.mathworks.com.\n",
      " \n",
      ">> >> >> >> >> >> >> >> >> >> >> >> >> >> >> >> >> >> >> >> >> >> >> >> >> >> >> >> >> >> >> >> >> >> >> >> >> >> >> Generating file: hypreTestMatrix1.00000\n",
      "Generating file: hypreTestMatrix1.00001\n",
      ">> >> >> >> >> >> >> >> >> >> >> >> >> >> >> >> >> >> >> >> Generating file: hypreTestVector1.0\n",
      "Generating INFO file: hypreTestVector1.INFO.0\n",
      "Generating file: hypreTestVector1.1\n",
      "Generating INFO file: hypreTestVector1.INFO.1\n",
      ">> >> >> >> "
     ]
    },
    {
     "data": {
      "text/plain": [
       "Process(`\u001b[4m/Applications/MATLAB_R2018b.app/bin/matlab\u001b[24m \u001b[4m-nojvm\u001b[24m \u001b[4m'<'\u001b[24m \u001b[4m/Users/rjkyng/Dropbox/Repos/Laplacians.jl/src/../hypre/matlab2hypreMatrixVectorScript.m\u001b[24m`, ProcessExited(0))"
      ]
     },
     "execution_count": 11,
     "metadata": {},
     "output_type": "execute_result"
    }
   ],
   "source": [
    "matname = \"hypreTestMatrix1\"\n",
    "vecname = \"hypreTestVector1\"\n",
    "hypreExportMatrixVector(matname,M,vecname,b)"
   ]
  },
  {
   "cell_type": "code",
   "execution_count": null,
   "metadata": {
    "collapsed": true
   },
   "outputs": [],
   "source": []
  }
 ],
 "metadata": {
  "kernelspec": {
   "display_name": "Julia 1.1.0",
   "language": "julia",
   "name": "julia-1.1"
  },
  "language_info": {
   "file_extension": ".jl",
   "mimetype": "application/julia",
   "name": "julia",
   "version": "1.1.0"
  }
 },
 "nbformat": 4,
 "nbformat_minor": 2
}
